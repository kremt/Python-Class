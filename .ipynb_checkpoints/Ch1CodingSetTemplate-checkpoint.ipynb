{
 "cells": [
  {
   "cell_type": "markdown",
   "metadata": {
    "id": "V_9gU-dva4Xx"
   },
   "source": [
    "# Chapter **1** Coding Set\n",
    "\n",
    "**Remember to save a copy of this template BEFORE YOU START WORKING :)**\n",
    "\n",
    "Work completed by [Kyle R].\n",
    "\n",
    "If you struggle with a problem for an extended period of time, remember you can go comment on two other submissions now (seeing other student work helps), or you can post in our discussion forum for questions, which can also earn you extra credit."
   ]
  },
  {
   "cell_type": "markdown",
   "metadata": {
    "id": "2b2z_elQf2qP"
   },
   "source": [
    "## Programming Exercises"
   ]
  },
  {
   "cell_type": "markdown",
   "metadata": {
    "id": "klCvdzHvf74V"
   },
   "source": [
    "### Problem A (Not in texbook)\n",
    "\n",
    "#### Question Text\n",
    "\n",
    "Try entering the following code in the cell below and then press SHIFT + ENTER -or- click the \"Run cell\" button:\n",
    "\n",
    "```\n",
    "print('This is a test of running Python code within a notebook.')\n",
    "```\n",
    "\n",
    "#### High-Level Overview\n",
    "\n",
    "I was able to copy-paste the above code into the cell and get the expected output on the first try. Common syntax errors for this oporation incude not enclosing the text in quotations, or missing the closing parentheses."
   ]
  },
  {
   "cell_type": "code",
   "execution_count": 3,
   "metadata": {
    "id": "iQooA6BWlvx5"
   },
   "outputs": [
    {
     "name": "stdout",
     "output_type": "stream",
     "text": [
      "This is a test of running Python code within a notebook.\n"
     ]
    }
   ],
   "source": [
    "# add your code to this cell\n",
    "# remember to include comments like this one for every line of code\n",
    "# remember to \"Run cell\" once you're done, excecuting your code so the output is displayed below\n",
    "# just click inside the cell and enter the code below\n",
    "print('This is a test of running Python code within a notebook.') #the print operator tels python to send the entered text to the output device."
   ]
  },
  {
   "cell_type": "markdown",
   "metadata": {
    "id": "VxGugqDyxh_p"
   },
   "source": [
    "### Problem 3\n",
    "\n",
    "#### Question Text\n",
    "\n",
    "Use what you've learned about the binary numbering system in this chapter to convert by hand (i.e., no Python) the following decimal numbers to binary. Make sure you show all your work to find your answers.\n",
    "\n",
    "```\n",
    " 11\n",
    " 65\n",
    "100\n",
    "255\n",
    "```\n",
    "\n",
    "#### High-Level Overview\n",
    "\n",
    "Each Byte consists of 8 Bits representing powers of 2 in decending order from left to right. So the left most bit in the sequence represents 2^7 (128) and the right most bit represents 2^0 (1). To determine the bianry of a number you must factor which of the powers of 2 must be added to acheive the number as an output. ie: 10000001 = (2^7)+(2^0) = 128+1 = 129\n",
    "\n",
    "#### Solution\n",
    "\n",
    "          2^7 2^6 2^5 2^4 2^3 2^2 2^1 2^0\n",
    "     11    0 + 0 + 0 + 0 + 1 + 0 + 1 + 1  = 0+0+0+0+8+0+2+1 = 11, Therefore binary for 11 is 00001011\n",
    "     65    0 + 1 + 0 + 0 + 0 + 0 + 0 + 1  = 0+64+0+0+0+0+0+1 = 65, Therefore binary for 65 is 01000001\n",
    "     100   0 + 1 + 1 + 0 + 0 + 1 + 0 + 0  = 0+64+32+0+0+4+0+0 = 100, therefore binary for 100 is 01100100\n",
    "     255   1 + 1 + 1 + 1 + 1 + 1 + 1 + 1  = 128+64+32+16+8+4+2+1 = 255, therefore binary for 255 is 11111111"
   ]
  },
  {
   "cell_type": "markdown",
   "metadata": {
    "id": "kqfebVBKxlKj"
   },
   "source": [
    "### Problem **5**\n",
    "\n",
    "#### Question Text:\n",
    "\n",
    "Look at the ASCII chart in Appendix C and determine the codes for each letter of your first\n",
    " name.\n",
    "\n",
    "#### High-Level Overview\n",
    "\n"
   ]
  },
  {
   "cell_type": "markdown",
   "metadata": {
    "id": "NxsN1n6_yXlW"
   },
   "source": [
    "## Helpful Checks\n",
    "\n",
    "1.   Did you include a high-level explanation for each solution?\n",
    "2.   Did you run the cell that includes a final coding solution so the output is saved and easily viewed by others?\n",
    "3.   Are you sharing an editable link (i.e., Share > Anyone with the link > Editor) if using Colaboratory, or did you make more than ten commits if using GitHub?\n",
    "4.   Did you remember to comment on the submissions of two other students?"
   ]
  },
  {
   "cell_type": "code",
   "execution_count": null,
   "metadata": {
    "id": "pwannh81NTQz"
   },
   "outputs": [],
   "source": []
  }
 ],
 "metadata": {
  "colab": {
   "provenance": []
  },
  "kernelspec": {
   "display_name": "Python 3 (ipykernel)",
   "language": "python",
   "name": "python3"
  },
  "language_info": {
   "codemirror_mode": {
    "name": "ipython",
    "version": 3
   },
   "file_extension": ".py",
   "mimetype": "text/x-python",
   "name": "python",
   "nbconvert_exporter": "python",
   "pygments_lexer": "ipython3",
   "version": "3.12.7"
  }
 },
 "nbformat": 4,
 "nbformat_minor": 4
}
