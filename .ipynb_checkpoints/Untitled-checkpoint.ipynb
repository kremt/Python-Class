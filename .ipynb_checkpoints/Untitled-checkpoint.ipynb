{
 "cells": [
  {
   "cell_type": "markdown",
   "id": "00654d08-9885-4011-ab11-d42efef745c3",
   "metadata": {},
   "source": [
    "# Test File\n",
    "testing"
   ]
  },
  {
   "cell_type": "code",
   "execution_count": 2,
   "id": "18a309df-7765-499a-8bf4-d5abeeb874dd",
   "metadata": {},
   "outputs": [
    {
     "name": "stdout",
     "output_type": "stream",
     "text": [
      "is this thing on?\n"
     ]
    }
   ],
   "source": [
    "print(\"is this thing on?\")"
   ]
  },
  {
   "cell_type": "code",
   "execution_count": null,
   "id": "bea7cd33-4ec8-400f-94b7-58537124e7bd",
   "metadata": {},
   "outputs": [],
   "source": []
  }
 ],
 "metadata": {
  "kernelspec": {
   "display_name": "Python 3 (ipykernel)",
   "language": "python",
   "name": "python3"
  },
  "language_info": {
   "codemirror_mode": {
    "name": "ipython",
    "version": 3
   },
   "file_extension": ".py",
   "mimetype": "text/x-python",
   "name": "python",
   "nbconvert_exporter": "python",
   "pygments_lexer": "ipython3",
   "version": "3.12.7"
  }
 },
 "nbformat": 4,
 "nbformat_minor": 5
}
