{
 "cells": [
  {
   "cell_type": "markdown",
   "metadata": {
    "id": "V_9gU-dva4Xx"
   },
   "source": [
    "# Chapter **3** Coding Set\n",
    "\n",
    "Work completed by [Kyle R].\n",
    "\n",
    "If you start to struggle with a problem for an extended period of time, remember you can go comment on two other submissions now (seeing other student work helps), or you can post in our discussion forum for questions, which can also earn you extra credit."
   ]
  },
  {
   "cell_type": "markdown",
   "metadata": {
    "id": "jW9S_3jcOdYt"
   },
   "source": [
    "## Imports\n",
    "\n",
    "**If your program requires additional modules, external resources, or files, use this cell to set them up**"
   ]
  },
  {
   "cell_type": "code",
   "execution_count": null,
   "metadata": {
    "id": "mYW-OioYOu3g"
   },
   "outputs": [],
   "source": [
    "# configure your environment\n",
    "\n",
    "# you can uncomment this code to make use of files stored in your Google Drive\n",
    "# from google.colab import drive\n",
    "# drive.mount('/content/drive')\n",
    "\n",
    "# you can uncomment the following line of code to use the pandas library\n",
    "# import pandas as pd"
   ]
  },
  {
   "cell_type": "markdown",
   "metadata": {
    "id": "VH4eGQyub8yQ"
   },
   "source": [
    "## Algorithm Workbench"
   ]
  },
  {
   "cell_type": "markdown",
   "metadata": {
    "id": "dBl7Q9AZcLMU"
   },
   "source": [
    "### Problem **7**\n",
    "\n",
    "#### Question Text\n",
    "\n",
    "*Write an if-else statement that determines whether the points variable is outside\n",
    " the range of 9 to 51. If the variable’s value is outside this range it should display “Invalid\n",
    " points.” Otherwise, it should display “Valid points.”*\n",
    "\n",
    "#### High-Level Overview\n",
    "\n",
    "*For this question I initially set it up as an input and then a seperate decision block but I was curious about using the walrus oporator. I commented out the first answer and rewrote the program using the walrus oporator to assigne and evalute the veriable on a single line of code. It did works but I quesiton if it is actually better. It eliminates one line of code but makes the program more difficult to read.*"
   ]
  },
  {
   "cell_type": "code",
   "execution_count": 6,
   "metadata": {
    "id": "k4iGFPemb26z"
   },
   "outputs": [
    {
     "name": "stdin",
     "output_type": "stream",
     "text": [
      "What was your score? 12\n"
     ]
    },
    {
     "name": "stdout",
     "output_type": "stream",
     "text": [
      "Valid Points.\n"
     ]
    }
   ],
   "source": [
    "\"\"\"#lets get a value for our veriable to start with.\n",
    "\n",
    "points = int(input('What was your score?'))\n",
    "\n",
    "#testing the veriable to see if it is greater than 9 but less than 51.\n",
    "if points > 9 and points < 51:\n",
    "    print('Valid points.')\n",
    "else:\n",
    "    print('Invalid points.')\"\"\"\n",
    "\n",
    "#Lets see if we can make this more concise with the walrus operator\n",
    "if (points := int(input('What was your score?'))) > 9 and points < 51:\n",
    "    print('Valid Points.')\n",
    "else:\n",
    "    print('Invalid Points.')"
   ]
  },
  {
   "cell_type": "markdown",
   "metadata": {
    "id": "o9xcij9hfq-5"
   },
   "source": [
    "### Problem **5**\n",
    "\n",
    "#### Question Text\n",
    "\n",
    "*Write nested decision structures that perform the following: If amount1 is greater than\n",
    " 10 and amount2 is less than 100, display the greater of amount1 and amount2.*\n",
    "\n",
    "#### High-Level Overview\n",
    "\n",
    "*I wanted to try and be as concise as possible so I used the walrus operator to assign and return the veriables inline with the\n",
    "Boolean tests to see if the numbers fall between 10 and 100. I also use a boolean within the print statement to return only the larger amount. I would be interested if there were any way to be more concise then what I have.*"
   ]
  },
  {
   "cell_type": "code",
   "execution_count": 14,
   "metadata": {
    "id": "ubgUdOUTl24X"
   },
   "outputs": [
    {
     "name": "stdin",
     "output_type": "stream",
     "text": [
      "Please enter the first amount: 34\n",
      "Please enter the second amount: 66\n"
     ]
    },
    {
     "name": "stdout",
     "output_type": "stream",
     "text": [
      "The greater amount is: 66.0\n"
     ]
    }
   ],
   "source": [
    "# To be concise we will use the walrus to declare and assign our veriables in line.\n",
    "if (amount1 := float(input('Please enter the first amount:'))) > 10:\n",
    "    if (amount2 := float(input('Please enter the second amount:'))) < 100:\n",
    "        print('The greater amount is:',amount1 if amount1 > amount2 else amount2)  #weighing the veriables and returning the greater\n",
    "else: \n",
    "    print('Invalid input.')\n",
    "#if line one or two fail the boolean check the else will catch it and return an error."
   ]
  },
  {
   "cell_type": "markdown",
   "metadata": {
    "id": "2b2z_elQf2qP"
   },
   "source": [
    "## Programming Exercises"
   ]
  },
  {
   "cell_type": "markdown",
   "metadata": {
    "id": "klCvdzHvf74V"
   },
   "source": [
    "### Problem **3**\n",
    "\n",
    "#### Question Text\n",
    "\n",
    "*Write a program that asks the user to enter a person’s age. The program should display a\n",
    " message indicating whether the person is an infant, a child, a teenager, or an adult. Following\n",
    " are the guidelines:<br>\n",
    " • If the person is 1 year old or less, they are an infant.<br>\n",
    " • If the person is older than 1 year, but younger than 13 years, they are a child.<br>\n",
    " • If the person is at least 13 years old, but less than 20 years old, they are a teenager.<br>\n",
    " • If the person is at least 20 years old, they are an adult.*\n",
    "\n",
    "#### High-Level Overview\n",
    "\n",
    "*I decided to use a flag veriable and use an if-elif decision block to change it based on the test, then output the veriable at the end. I'm sure there is a more concise was to do this. I'll admit I struggled with syntax errors to get it working.*\n"
   ]
  },
  {
   "cell_type": "code",
   "execution_count": 39,
   "metadata": {
    "id": "iQooA6BWlvx5"
   },
   "outputs": [
    {
     "name": "stdin",
     "output_type": "stream",
     "text": [
      "Please enter your age: 18\n"
     ]
    },
    {
     "name": "stdout",
     "output_type": "stream",
     "text": [
      "Your age group is: teenager\n"
     ]
    }
   ],
   "source": [
    "\n",
    "# declairing a veriable to be set with the age group.\n",
    "age_group = 'flag'\n",
    "\n",
    "#creating decision structure to change the veriable flag.\n",
    "if (user_age := float(input('Please enter your age:'))) <= 1:\n",
    "    age_group = 'infant'\n",
    "elif user_age > 1 and user_age < 13:\n",
    "    age_group = 'child'\n",
    "elif user_age >= 13 and user_age < 20:\n",
    "    age_group = 'teenager'\n",
    "elif user_age >= 20:\n",
    "    age_group = 'adult'\n",
    "print('Your age group is:', age_group)"
   ]
  },
  {
   "cell_type": "markdown",
   "metadata": {
    "id": "VxGugqDyxh_p"
   },
   "source": [
    "### Problem **5**\n",
    "\n",
    "#### Question Text\n",
    "\n",
    "*Scientists measure an object’s mass in kilograms and its weight in newtons. If you know\n",
    " the amount of mass of an object in kilograms, you can calculate its weight in newtons with\n",
    " the following formula:<br>\n",
    " weight = mass × 9.8<br>\n",
    " Write a program that asks the user to enter an object’s mass, then calculates its weight. If\n",
    " the object weighs more than 500 newtons, display a message indicating that it is too heavy. If\n",
    " the object weighs less than 100 newtons, display a message indicating that it is too light.*\n",
    "\n",
    "#### High-Level Overview\n",
    "\n",
    "*In two to three sentences at minimum, walk through your general approach to the problem and identify any particular issues you had.*\n"
   ]
  },
  {
   "cell_type": "code",
   "execution_count": 53,
   "metadata": {
    "id": "CCUIs3F5xhdd"
   },
   "outputs": [
    {
     "name": "stdin",
     "output_type": "stream",
     "text": [
      "Please enter the objects mass: 50\n"
     ]
    },
    {
     "ename": "ValueError",
     "evalue": "Invalid format specifier ' , .3f' for object of type 'float'",
     "output_type": "error",
     "traceback": [
      "\u001b[31m---------------------------------------------------------------------------\u001b[39m",
      "\u001b[31mValueError\u001b[39m                                Traceback (most recent call last)",
      "\u001b[36mCell\u001b[39m\u001b[36m \u001b[39m\u001b[32mIn[53]\u001b[39m\u001b[32m, line 9\u001b[39m\n\u001b[32m      7\u001b[39m     \u001b[38;5;28mprint\u001b[39m(\u001b[33m'\u001b[39m\u001b[33mThe object is too light!\u001b[39m\u001b[33m'\u001b[39m)\n\u001b[32m      8\u001b[39m \u001b[38;5;28;01melse\u001b[39;00m:\n\u001b[32m----> \u001b[39m\u001b[32m9\u001b[39m     \u001b[38;5;28mprint\u001b[39m(\u001b[33mf\u001b[39m\u001b[33m\"\u001b[39m\u001b[33mThe object\u001b[39m\u001b[33m'\u001b[39m\u001b[33ms weight is:\u001b[39m\u001b[38;5;132;01m{\u001b[39;00mmass\u001b[38;5;250m \u001b[39m*\u001b[38;5;250m \u001b[39m\u001b[32m9.8\u001b[39m\u001b[38;5;132;01m:\u001b[39;00m\u001b[33m , .3f\u001b[39m\u001b[38;5;132;01m}\u001b[39;00m\u001b[33m\"\u001b[39m)\n",
      "\u001b[31mValueError\u001b[39m: Invalid format specifier ' , .3f' for object of type 'float'"
     ]
    }
   ],
   "source": [
    "#getting the weight from the user.\n",
    "mass = int(input('Please enter the objects mass:'))\n",
    "\n",
    "if (mass * 9.8) > 500:\n",
    "    print('The object is too heavy!')\n",
    "elif (mass * 9.8) < 100:\n",
    "    print('The object is too light!')\n",
    "else:\n",
    "    print(f\"The object's weight is:{mass * 9.8: , .3f}\")"
   ]
  },
  {
   "cell_type": "markdown",
   "metadata": {
    "id": "kqfebVBKxlKj"
   },
   "source": [
    "### Problem **?**\n",
    "\n",
    "#### Question Text\n",
    "\n",
    "*Paste in the question text below.*\n",
    "\n",
    "#### High-Level Overview\n",
    "\n",
    "*In two to three sentences at minimum, walk through your general approach to the problem and identify any particular issues you had.*\n"
   ]
  },
  {
   "cell_type": "code",
   "execution_count": null,
   "metadata": {
    "id": "9yuG65pIxkQJ"
   },
   "outputs": [],
   "source": [
    "# add your code to this cell\n",
    "# remember to include comments like this one for most of your code\n",
    "# remember to \"Run cell\" once you're done, excecuting your code so the output is displayed below"
   ]
  },
  {
   "cell_type": "markdown",
   "metadata": {
    "id": "uMknY49Txpht"
   },
   "source": [
    "### Problem **?**\n",
    "\n",
    "#### Question Text\n",
    "\n",
    "*Paste in the question text below.*\n",
    "\n",
    "#### High-Level Overview\n",
    "\n",
    "*In two to three sentences at minimum, walk through your general approach to the problem and identify any particular issues you had.*\n"
   ]
  },
  {
   "cell_type": "code",
   "execution_count": null,
   "metadata": {
    "id": "UByfwHefxpPH"
   },
   "outputs": [],
   "source": [
    "# add your code to this cell\n",
    "# remember to include comments like this one for most of your code\n",
    "# remember to \"Run cell\" once you're done, excecuting your code so the output is displayed below"
   ]
  },
  {
   "cell_type": "markdown",
   "metadata": {
    "id": "NxsN1n6_yXlW"
   },
   "source": [
    "## Helpful Checks\n",
    "\n",
    "1.   Did you comment every line of code with meaningful information that will help others reading your code?\n",
    "2.   Did you use appropriate names for your variables, functions, and/or classes?\n",
    "3.   Did you include a high-level explanation for each solution?\n",
    "4.   Did you run each cell that includes a final solution so the output is saved and easily viewed by others?\n",
    "5.   Are you sharing an editable link (i.e., Share > Anyone with the link > Editor) if using Colaboratory, or did you make more than ten commits if using GitHub?\n",
    "6.   Did you remember to comment on the submissions of two other students?"
   ]
  },
  {
   "cell_type": "code",
   "execution_count": null,
   "metadata": {
    "id": "wxzLHFoJTksu"
   },
   "outputs": [],
   "source": []
  }
 ],
 "metadata": {
  "colab": {
   "provenance": []
  },
  "kernelspec": {
   "display_name": "Python 3 (ipykernel)",
   "language": "python",
   "name": "python3"
  },
  "language_info": {
   "codemirror_mode": {
    "name": "ipython",
    "version": 3
   },
   "file_extension": ".py",
   "mimetype": "text/x-python",
   "name": "python",
   "nbconvert_exporter": "python",
   "pygments_lexer": "ipython3",
   "version": "3.12.7"
  }
 },
 "nbformat": 4,
 "nbformat_minor": 4
}
