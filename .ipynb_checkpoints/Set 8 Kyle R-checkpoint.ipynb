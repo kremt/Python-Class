{
 "cells": [
  {
   "cell_type": "markdown",
   "metadata": {
    "editable": true,
    "id": "V_9gU-dva4Xx",
    "slideshow": {
     "slide_type": ""
    },
    "tags": []
   },
   "source": [
    "# Chapter **8** Coding Set\n",
    "\n",
    "Work completed by [Kyle R].\n",
    "\n",
    "If you start to struggle with a problem for an extended period of time, remember you can go comment on two other submissions now (seeing other student work helps), or you can post in our discussion forum for questions, which can also earn you extra credit."
   ]
  },
  {
   "cell_type": "markdown",
   "metadata": {
    "id": "jW9S_3jcOdYt"
   },
   "source": [
    "## Imports\n",
    "\n",
    "**If your program requires additional modules, external resources, or files, use this cell to set them up**"
   ]
  },
  {
   "cell_type": "code",
   "execution_count": null,
   "metadata": {
    "id": "mYW-OioYOu3g"
   },
   "outputs": [],
   "source": [
    "# configure your environment\n",
    "\n",
    "# you can uncomment this code to make use of files stored in your Google Drive\n",
    "# from google.colab import drive\n",
    "# drive.mount('/content/drive')\n",
    "\n",
    "# you can uncomment the following line of code to use the pandas library\n",
    "# import pandas as pd"
   ]
  },
  {
   "cell_type": "markdown",
   "metadata": {
    "id": "VH4eGQyub8yQ"
   },
   "source": [
    "## Algorithm Workbench"
   ]
  },
  {
   "cell_type": "markdown",
   "metadata": {
    "id": "dBl7Q9AZcLMU"
   },
   "source": [
    "### Problem **4**\n",
    "\n",
    "#### Question Text\n",
    "\n",
    "*Write a loop that counts the number of lowercase characters that appear in the string\n",
    " referenced by mystring.*\n",
    "\n",
    "#### High-Level Overview\n",
    "\n",
    "*The main logic used here is the string method 'lower()' that returns true if the character is lower case. If so, increase counter by 1. Once all characters have been iterated over, return the counter.*\n"
   ]
  },
  {
   "cell_type": "code",
   "execution_count": 3,
   "metadata": {
    "id": "k4iGFPemb26z"
   },
   "outputs": [
    {
     "name": "stdout",
     "output_type": "stream",
     "text": [
      "There are 25 lowercase letters in 'Sometimes I like to YELL!'.\n"
     ]
    }
   ],
   "source": [
    "#Main function of the program\n",
    "def main():\n",
    "    mystring = \"Sometimes I like to YELL!\"\n",
    "    #Formatted output that calls the count function\n",
    "    print(f\"There are {count_lowers(mystring)} lowercase letters in '{mystring}'.\")\n",
    "    \n",
    "\n",
    "#Function to count the lowercase letters.\n",
    "#Accepts a string for iteration.\n",
    "def count_lowers(string):\n",
    "    count = 0\n",
    "    for char in string:\n",
    "        #If lowercase increase count by 1.\n",
    "        if char.lower():\n",
    "            count += 1\n",
    "    #send count back to the calling function.\n",
    "    return count\n",
    "\n",
    "if __name__ == \"__main__\":\n",
    "    main()"
   ]
  },
  {
   "cell_type": "markdown",
   "metadata": {
    "id": "o9xcij9hfq-5"
   },
   "source": [
    "### Problem **10**\n",
    "\n",
    "#### Question Text\n",
    "\n",
    "*Look at the following statement:<br>     mystring = 'cookies>milk>fudge>cake>ice cream'<br>Write a statement that splits this string, creating the following list:<br>    ['cookies', 'milk', 'fudge', 'cake', 'ice cream']*\n",
    "\n",
    "#### High-Level Overview\n",
    "\n",
    "*No real issues with this one. The string.split() method works really well to do all the work. One thing of note, I had originally declared the output variable spit_string as an empty list with the sting.split('>') mothod inside it as a list comprehension. This caused the split output to all be assined to index[0] of split_string. So don't use split method as a comprehension unless you are intending to make a 2D list, or if you are controlling the index assignment somehow.*"
   ]
  },
  {
   "cell_type": "code",
   "execution_count": 7,
   "metadata": {
    "id": "ubgUdOUTl24X"
   },
   "outputs": [
    {
     "name": "stdout",
     "output_type": "stream",
     "text": [
      "['cookies', 'milk', 'fudge', 'cake', 'ice cream']\n"
     ]
    }
   ],
   "source": [
    "#Given string from the problem.\n",
    "mystring = 'cookies>milk>fudge>cake>ice cream'\n",
    "\n",
    "#Main function of program.\n",
    "def main():\n",
    "    print(splitter(mystring))\n",
    "\n",
    "def splitter(string):\n",
    "    #Container for output.\n",
    "    split_string = string.split('>')\n",
    "    #Return split_string to the calling function.\n",
    "    return split_string\n",
    "\n",
    "if __name__ == '__main__':\n",
    "    main()"
   ]
  },
  {
   "cell_type": "markdown",
   "metadata": {
    "id": "2b2z_elQf2qP"
   },
   "source": [
    "## Programming Exercises"
   ]
  },
  {
   "cell_type": "markdown",
   "metadata": {
    "id": "klCvdzHvf74V"
   },
   "source": [
    "### Problem **1**\n",
    "\n",
    "#### Question Text\n",
    "\n",
    "*Write a program that gets a string containing a person’s first, middle, and last names, and\n",
    " displays their first, middle, and last initials. For example, if the user enters John William\n",
    " Smith, the program should display J. W. S.*\n",
    "\n",
    "#### High-Level Overview\n",
    "\n",
    "*In two to three sentences at minimum, walk through your general approach to the problem and identify any particular issues you had.*\n"
   ]
  },
  {
   "cell_type": "code",
   "execution_count": null,
   "metadata": {
    "id": "iQooA6BWlvx5"
   },
   "outputs": [],
   "source": [
    "#Main function of program.\n",
    "def main():\n",
    "    name = str(input('Please enter your first, middle, and last name, seperated by commas:'))\n",
    "    pass\n",
    "\n",
    "#Function to split the input and return the initals.\n",
    "def initials(string):\n",
    "    #Turn the string into a list\n",
    "    full_name = string.split(',')\n",
    "    #Set string veriables to each section of the name entered.\n",
    "    first = full_name[0]\n",
    "    middle = full_name[1]\n",
    "    last = full_name[2]\n",
    "    pass\n"
   ]
  },
  {
   "cell_type": "markdown",
   "metadata": {
    "id": "VxGugqDyxh_p"
   },
   "source": [
    "### Problem **3**\n",
    "\n",
    "#### Question Text\n",
    "\n",
    "*Write a program that reads a string from the user containing a date in the form mm/dd/\n",
    " yyyy. It should print the date in the format March 12, 2018.*\n",
    "\n",
    "#### High-Level Overview\n",
    "\n",
    "*In two to three sentences at minimum, walk through your general approach to the problem and identify any particular issues you had.*\n"
   ]
  },
  {
   "cell_type": "code",
   "execution_count": null,
   "metadata": {
    "id": "CCUIs3F5xhdd"
   },
   "outputs": [],
   "source": [
    "# add your code to this cell\n",
    "# remember to include comments like this one for most of your code\n",
    "# remember to \"Run cell\" once you're done, excecuting your code so the output is displayed below"
   ]
  },
  {
   "cell_type": "markdown",
   "metadata": {
    "id": "kqfebVBKxlKj"
   },
   "source": [
    "### Problem **5**\n",
    "\n",
    "#### Question Text\n",
    "\n",
    "*Many companies use telephone numbers like 555-GET-FOOD so the number is easier for their customers to remember. On a standard telephone, the alphabetic letters are mapped to numbers in the following fashion:<br>  A, B, and C = 2<br>  D, E, and F = 3<br>  G, H, and I = 4<br>  J, K, and L = 5<br>  M, N, and O = 6<br>  P, Q, R, and S = 7<br>  T, U, and V = 8<br>  W, X, Y, and Z = 9<br> Write a program that asks the user to enter a 10 character telephone number in the format XXX-XXX-XXXX. The application should display the telephone number with any alphabetic characters that appeared in the original translated to their numeric equivalent.*\n",
    "\n",
    "#### High-Level Overview\n",
    "\n",
    "*In two to three sentences at minimum, walk through your general approach to the problem and identify any particular issues you had.*\n"
   ]
  },
  {
   "cell_type": "code",
   "execution_count": null,
   "metadata": {
    "id": "9yuG65pIxkQJ"
   },
   "outputs": [],
   "source": [
    "# add your code to this cell\n",
    "# remember to include comments like this one for most of your code\n",
    "# remember to \"Run cell\" once you're done, excecuting your code so the output is displayed below"
   ]
  },
  {
   "cell_type": "markdown",
   "metadata": {
    "id": "uMknY49Txpht"
   },
   "source": [
    "### Problem **9**\n",
    "\n",
    "#### Question Text\n",
    "\n",
    "*Write a program with a function that accepts a string as an argument and returns the\n",
    " number of vowels that the string contains. The application should have another function that\n",
    " accepts a string as an argument and returns the number of consonants that the string\n",
    " contains. The application should let the user enter a string, and should display the number of\n",
    " vowels and the number of consonants it contains.*\n",
    "\n",
    "#### High-Level Overview\n",
    "\n",
    "*In two to three sentences at minimum, walk through your general approach to the problem and identify any particular issues you had.*\n"
   ]
  },
  {
   "cell_type": "code",
   "execution_count": null,
   "metadata": {
    "id": "UByfwHefxpPH"
   },
   "outputs": [],
   "source": [
    "# add your code to this cell\n",
    "# remember to include comments like this one for most of your code\n",
    "# remember to \"Run cell\" once you're done, excecuting your code so the output is displayed below"
   ]
  },
  {
   "cell_type": "markdown",
   "metadata": {
    "id": "NxsN1n6_yXlW"
   },
   "source": [
    "## Helpful Checks\n",
    "\n",
    "1.   Did you comment every line of code with meaningful information that will help others reading your code?\n",
    "2.   Did you use appropriate names for your variables, functions, and/or classes?\n",
    "3.   Did you include a high-level explanation for each solution?\n",
    "4.   Did you run each cell that includes a final solution so the output is saved and easily viewed by others?\n",
    "5.   Are you sharing an editable link (i.e., Share > Anyone with the link > Editor) if using Colaboratory, or did you make more than ten commits if using GitHub?\n",
    "6.   Did you remember to comment on the submissions of two other students?"
   ]
  },
  {
   "cell_type": "code",
   "execution_count": null,
   "metadata": {
    "id": "wxzLHFoJTksu"
   },
   "outputs": [],
   "source": []
  }
 ],
 "metadata": {
  "colab": {
   "provenance": []
  },
  "kernelspec": {
   "display_name": "Python 3 (ipykernel)",
   "language": "python",
   "name": "python3"
  },
  "language_info": {
   "codemirror_mode": {
    "name": "ipython",
    "version": 3
   },
   "file_extension": ".py",
   "mimetype": "text/x-python",
   "name": "python",
   "nbconvert_exporter": "python",
   "pygments_lexer": "ipython3",
   "version": "3.12.11"
  }
 },
 "nbformat": 4,
 "nbformat_minor": 4
}
