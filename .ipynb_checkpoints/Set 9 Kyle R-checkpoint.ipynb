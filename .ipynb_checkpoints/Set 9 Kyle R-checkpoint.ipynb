{
 "cells": [
  {
   "cell_type": "markdown",
   "metadata": {
    "id": "V_9gU-dva4Xx"
   },
   "source": [
    "# Chapter **9** Coding Set\n",
    "\n",
    "**Remember to save a copy of this template BEFORE YOU START WORKING :)**\n",
    "\n",
    "Work completed by [Kyle R].\n",
    "\n",
    "IMPORTANT: Remember to screen record ALL of your work on at least one problem. You must turn off the generative AI code-completion for this problem, as this problem is preparation for our final exam practical. You can turn off generative AI code-completion within Colab by tapping/clicking the settings icon in the upper right, tapping/clicking the AI Assistance section, and then deselecting \"Consented to use generative AI features\" and selecting \"Hide generative AI features\" (these settings may be returned to their previous states once you've completed this problem).\n",
    "\n",
    "If you start to struggle with a problem for an extended period of time, remember you can go comment on two other submissions now (seeing other student work helps), or you can post in our discussion forum for questions, which can also earn you extra credit."
   ]
  },
  {
   "cell_type": "markdown",
   "metadata": {
    "id": "jW9S_3jcOdYt"
   },
   "source": [
    "## Imports\n",
    "\n",
    "**If your program requires additional modules, external resources, or files, use this cell to set them up**"
   ]
  },
  {
   "cell_type": "code",
   "execution_count": null,
   "metadata": {
    "id": "mYW-OioYOu3g"
   },
   "outputs": [],
   "source": [
    "# configure your environment\n",
    "import random\n",
    "# you can uncomment this code to make use of files stored in your Google Drive\n",
    "# from google.colab import drive\n",
    "# drive.mount('/content/drive')\n",
    "\n",
    "# you can uncomment the following line of code to use the pandas library\n",
    "# import pandas as pd"
   ]
  },
  {
   "cell_type": "markdown",
   "metadata": {
    "id": "2b2z_elQf2qP"
   },
   "source": [
    "## Programming Exercises"
   ]
  },
  {
   "cell_type": "markdown",
   "metadata": {
    "id": "klCvdzHvf74V"
   },
   "source": [
    "### Problem **3**\n",
    "\n",
    "#### Question Text\n",
    "\n",
    "*Write a program that uses a dictionary to assign “codes” to each letter of the alphabet. The letter A would be assigned the symbol %, the letter a would be assigned the number 9, the letter B would be assigned the symbol @, and so forth. The program should open a specified text file, read its contents, then use the dictionary to write an encrypted version of the file’s contents to a second file. Each character in the second file should contain the code for the corresponding character in the first file. Write a second program that opens an encrypted file and displays its decrypted contents on the screen.*\n",
    "\n",
    "#### High-Level Overview\n",
    "\n",
    "*In two to three sentences at minimum, walk through your general approach to the problem and identify any particular issues you had.*\n"
   ]
  },
  {
   "cell_type": "code",
   "execution_count": 28,
   "metadata": {
    "id": "iQooA6BWlvx5"
   },
   "outputs": [
    {
     "name": "stdout",
     "output_type": "stream",
     "text": [
      "['5', '4', '(', '§', ' ', '(', '§', ' ', '<', ' ', '§', '<', '@', '\"', ';', '-', ' ', '_', '(', ';', '-', ' ', '_', ']', '\\\\', ' ', '%', '-', '@', ']', '¤', '§', '3', '\\\\', '<', '3', '(', ']', '¤', '.']\n"
     ]
    }
   ],
   "source": [
    "import random\n",
    "#Main function of our program.\n",
    "def main():\n",
    "    #List of alpha characters.\n",
    "    alpha = ['a', 'b', 'c', 'd', 'e', 'f', 'g', 'h', 'i', 'j', 'k', 'l', 'm', \n",
    "             'n', 'o', 'p', 'q', 'r', 's', 't', 'u', 'v', 'w', 'x', 'y', 'z']\n",
    "    #List of alpha in caps.\n",
    "    caps = [item.upper() for item in alpha]\n",
    "    #Final list combining the two.\n",
    "    alpha_plus = alpha + caps\n",
    "    #Create container and fill it with 52 pre-generated symbols.\n",
    "    symbols = []\n",
    "    with open('symbols.txt', 'r') as file:\n",
    "        symbols = [line.strip() for line in file]\n",
    "    #generate the cypher for encryption.\n",
    "    cypher = create_cypher(symbols, alpha_plus)\n",
    "    with open('message.txt', 'w') as file:\n",
    "        file.write('This is a sample file for demonstration.')\n",
    "    encoder('message.txt', cypher)\n",
    "\n",
    "def create_cypher(symbols, letters):\n",
    "    #copy symbols so we don't empty the list during iteration.\n",
    "    symbol_copy = symbols\n",
    "    cypher = {}\n",
    "    #Iterate over alpha_plus and use items as keys, assigning a random element from symbols as the value.\n",
    "    for k in letters:\n",
    "        random_index = random.randrange(len(symbol_copy))\n",
    "        #By poping from the list we ensure each iteration assigns a unique value.\n",
    "        v = symbol_copy.pop(random_index)\n",
    "        cypher[k] = v\n",
    "    return cypher\n",
    "\n",
    "#accepts a message and a cypher and returns an encoded message.\n",
    "def encoder(file_name, cypher):\n",
    "    #Read the file and assign the contents to a variable.\n",
    "    with open(file_name, 'r') as file:\n",
    "        lines = file.read()\n",
    "        message = lines.strip()\n",
    "        encoded_message = []\n",
    "    #Iterate over the message and if the element is found in the keys of the cypher, add the value to new message.\n",
    "    for char in message:\n",
    "        if char in cypher:\n",
    "            encoded_message.append(cypher[char])\n",
    "        elif char not in cypher:\n",
    "            encoded_message.append(char)\n",
    "    print(encoded_message)\n",
    "\n",
    "def decoder():\n",
    "    pass\n",
    "\n",
    "main()"
   ]
  },
  {
   "cell_type": "markdown",
   "metadata": {
    "id": "VxGugqDyxh_p"
   },
   "source": [
    "### Problem **?**\n",
    "\n",
    "#### Question Text\n",
    "\n",
    "*Paste in the question text below.*\n",
    "\n",
    "#### High-Level Overview\n",
    "\n",
    "*In two to three sentences at minimum, walk through your general approach to the problem and identify any particular issues you had.*\n"
   ]
  },
  {
   "cell_type": "code",
   "execution_count": null,
   "metadata": {
    "id": "CCUIs3F5xhdd"
   },
   "outputs": [],
   "source": [
    "# add your code to this cell\n",
    "# remember to include comments like this one for most of your code\n",
    "# remember to \"Run cell\" once you're done, excecuting your code so the output is displayed below"
   ]
  },
  {
   "cell_type": "markdown",
   "metadata": {
    "id": "NxsN1n6_yXlW"
   },
   "source": [
    "## Helpful Checks\n",
    "\n",
    "1.   Did you comment every line of code with meaningful information that will help others reading your code?\n",
    "2.   Did you use appropriate names for your variables, functions, and/or classes?\n",
    "3.   Did you include a high-level explanation for each solution?\n",
    "4.   Did you run each cell that includes a final solution so the output is saved and easily viewed by others?\n",
    "5.   Are you sharing an editable link (i.e., Share > Anyone with the link > Editor) if using Colaboratory, or did you make more than ten commits if using GitHub?\n",
    "6.   Did you remember to comment on the submissions of two other students?\n",
    "7.   Did you remember to screen record all of your work for at least one problem while turning off the generative AI features?\n",
    "8.   Did you remember to create a diagram (e.g., UML class diagram, flowchart, or hierarchical diagram) and include the link with your D2L submission?"
   ]
  },
  {
   "cell_type": "code",
   "execution_count": null,
   "metadata": {
    "id": "yRtnTuqDgYhg"
   },
   "outputs": [],
   "source": []
  }
 ],
 "metadata": {
  "colab": {
   "provenance": []
  },
  "kernelspec": {
   "display_name": "Python 3 (ipykernel)",
   "language": "python",
   "name": "python3"
  },
  "language_info": {
   "codemirror_mode": {
    "name": "ipython",
    "version": 3
   },
   "file_extension": ".py",
   "mimetype": "text/x-python",
   "name": "python",
   "nbconvert_exporter": "python",
   "pygments_lexer": "ipython3",
   "version": "3.12.11"
  }
 },
 "nbformat": 4,
 "nbformat_minor": 4
}
