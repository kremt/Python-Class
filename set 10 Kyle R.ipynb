{
 "cells": [
  {
   "cell_type": "markdown",
   "metadata": {
    "id": "V_9gU-dva4Xx"
   },
   "source": [
    "# Chapter **10** Coding Set\n",
    "\n",
    "**Remember to save a copy of this template BEFORE YOU START WORKING :)**\n",
    "\n",
    "Work completed by [Kyle R].\n",
    "\n",
    "IMPORTANT: Remember to screen record ALL of your work on at least one problem. You must turn off the generative AI code-completion for this problem, as this problem is preparation for our final exam practical. You can turn off generative AI code-completion within Colab by tapping/clicking the settings icon in the upper right, tapping/clicking the AI Assistance section, and then deselecting \"Consented to use generative AI features\" and selecting \"Hide generative AI features\" (these settings may be returned to their previous states once you've completed this problem).\n",
    "\n",
    "If you start to struggle with a problem for an extended period of time, remember you can go comment on two other submissions now (seeing other student work helps), or you can post in our discussion forum for questions, which can also earn you extra credit."
   ]
  },
  {
   "cell_type": "markdown",
   "metadata": {
    "id": "jW9S_3jcOdYt"
   },
   "source": [
    "## Imports\n",
    "\n",
    "**If your program requires additional modules, external resources, or files, use this cell to set them up**"
   ]
  },
  {
   "cell_type": "code",
   "execution_count": null,
   "metadata": {
    "id": "mYW-OioYOu3g"
   },
   "outputs": [],
   "source": [
    "# configure your environment\n",
    "\n",
    "# you can uncomment this code to make use of files stored in your Google Drive\n",
    "# from google.colab import drive\n",
    "# drive.mount('/content/drive')\n",
    "\n",
    "# you can uncomment the following line of code to use the pandas library\n",
    "# import pandas as pd"
   ]
  },
  {
   "cell_type": "markdown",
   "metadata": {
    "id": "2b2z_elQf2qP"
   },
   "source": [
    "## Programming Exercises"
   ]
  },
  {
   "cell_type": "markdown",
   "metadata": {
    "id": "klCvdzHvf74V"
   },
   "source": [
    "### Problem **5**\n",
    "\n",
    "#### Question Text\n",
    "\n",
    "*Write a class named RetailItem that holds data about an item in a retail store. The class should store the following data in attributes: item description, units in inventory, and price. Once you have written the class, write a program that creates three RetailItem objects and stores the following data in them:<br>Item #1 Jacket 12 59.95<br> Item 2 Designer Jeans 40 34.95<br> Item 3 Shirt 20 24.95*\n",
    "\n",
    "#### High-Level Overview\n",
    "\n",
    "*Screen Recording.*\n"
   ]
  },
  {
   "cell_type": "code",
   "execution_count": 38,
   "metadata": {
    "id": "iQooA6BWlvx5"
   },
   "outputs": [],
   "source": [
    "#Creating a Retail_Item class module\n",
    "class Retail_Item:\n",
    "    #Initalize objects of this class with the following attributes:\n",
    "    def __init__ (self):\n",
    "        self.description = \"\"\n",
    "        self.units = 1\n",
    "        self.price = 0.00\n",
    "\n",
    "    #Getters and Setters for each attribute\n",
    "    def set_description(self, string):\n",
    "        self.description = string\n",
    "        \n",
    "    def get_description(self):\n",
    "        return self.description\n",
    "        \n",
    "    def set_units(self, units):\n",
    "        self.units = units\n",
    "        \n",
    "    def get_units(self):\n",
    "        return int(self.units)\n",
    "        \n",
    "    def set_price(self, price):\n",
    "        self.price = price\n",
    "        \n",
    "    def get_price(self):\n",
    "        return float(self.price)\n"
   ]
  },
  {
   "cell_type": "code",
   "execution_count": 39,
   "metadata": {
    "id": "iQooA6BWlvx5"
   },
   "outputs": [],
   "source": [
    "import retail_item\n",
    "\n",
    "def main():\n",
    "    #Create 3 instances from the Retail_Item module\n",
    "    jacket = retail_item.Retail_Item()\n",
    "    designer_jeans = retail_item.Retail_Item()\n",
    "    shirt = retail_item.Retail_Item()\n",
    "\n",
    "    jacket.set_price(59.95)\n",
    "    jacket.set_units(12)\n",
    "    jacket.set_description(\"A black jacket that zips.\")\n",
    "\n",
    "    designer_jeans.set_price(34.95)\n",
    "    designer_jeans.set_units(40)\n",
    "    designer_jeans.set_description(\"A pair of Ralph Loren jeans.\")\n",
    "\n",
    "    shirt.set_price(24.95)\n",
    "    shirt.set_units(20)\n",
    "    shirt.set_description(\"A blue shirt with a red logo.\")\n",
    "\n",
    "if __name__ == '__main__':\n",
    "    main()"
   ]
  },
  {
   "cell_type": "markdown",
   "metadata": {
    "id": "VxGugqDyxh_p"
   },
   "source": [
    "### Problem **8**\n",
    "\n",
    "#### Question Text\n",
    "\n",
    "*Create a CashRegister class that can be used with the RetailItem class. The CashRegister class should be able to internally keep a list of RetailItem objects. The class should have the following methods:<br>A method named purchase_item that accepts a RetailItem object as an argument. Each time the purchase_item method is called, the RetailItem object that is passed as an argument should be added to the list.<br>A method named get_total that returns the total price of all the RetailItem objects stored in the CashRegister object’s internal list.<br>A method named show_items that displays data about the RetailItem objects stored in the CashRegister object’s internal list.<br>A method named clear that should clear the CashRegister object’s internal list.<br>Demonstrate the CashRegister class in a program that allows the user to select several items for purchase. When the user is ready to check out, the program should display a list of all the items he or she has selected for purchase, as well as the total price.*\n",
    "\n",
    "#### High-Level Overview\n",
    "\n",
    "*In two to three sentences at minimum, walk through your general approach to the problem and identify any particular issues you had.*\n"
   ]
  },
  {
   "cell_type": "code",
   "execution_count": 42,
   "metadata": {
    "id": "CCUIs3F5xhdd"
   },
   "outputs": [
    {
     "ename": "TypeError",
     "evalue": "CashRegister.purchase_item() takes 1 positional argument but 2 were given",
     "output_type": "error",
     "traceback": [
      "\u001b[31m---------------------------------------------------------------------------\u001b[39m",
      "\u001b[31mTypeError\u001b[39m                                 Traceback (most recent call last)",
      "\u001b[36mCell\u001b[39m\u001b[36m \u001b[39m\u001b[32mIn[42]\u001b[39m\u001b[32m, line 52\u001b[39m\n\u001b[32m     48\u001b[39m     register.purchase_item(shirt)\n\u001b[32m     51\u001b[39m \u001b[38;5;28;01mif\u001b[39;00m \u001b[34m__name__\u001b[39m == \u001b[33m'\u001b[39m\u001b[33m__main__\u001b[39m\u001b[33m'\u001b[39m:\n\u001b[32m---> \u001b[39m\u001b[32m52\u001b[39m     main()\n",
      "\u001b[36mCell\u001b[39m\u001b[36m \u001b[39m\u001b[32mIn[42]\u001b[39m\u001b[32m, line 46\u001b[39m, in \u001b[36mmain\u001b[39m\u001b[34m()\u001b[39m\n\u001b[32m     43\u001b[39m shirt.set_description(\u001b[33m\"\u001b[39m\u001b[33mA blue shirt with a red logo.\u001b[39m\u001b[33m\"\u001b[39m)\n\u001b[32m     45\u001b[39m register = CashRegister()\n\u001b[32m---> \u001b[39m\u001b[32m46\u001b[39m register.purchase_item(jacket)\n\u001b[32m     47\u001b[39m register.purchase_item(designer_jeans)\n\u001b[32m     48\u001b[39m register.purchase_item(shirt)\n",
      "\u001b[31mTypeError\u001b[39m: CashRegister.purchase_item() takes 1 positional argument but 2 were given"
     ]
    }
   ],
   "source": [
    "import retail_item\n",
    "\n",
    "class CashRegister:\n",
    "\n",
    "    def __init__(self):\n",
    "        self.__items = []\n",
    "\n",
    "    #Appends a retail object to the items list.\n",
    "    def purchase_item(self, retail_obj):\n",
    "        self.__items.append (retail_obj)\n",
    "    \n",
    "    #Sum the price attribute for each item in the list.\n",
    "    def get_total(self):\n",
    "        total = 0\n",
    "        for item in self.__items:\n",
    "            total += item.get_price()\n",
    "        return total\n",
    "\n",
    "    #Return the items currently in the list.\n",
    "    def show_items(self):\n",
    "        for item in self.__items:\n",
    "            print(item)\n",
    "\n",
    "    #Empty the list.\n",
    "    def clear(self):\n",
    "        self.__items = []\n",
    "def main():\n",
    "    #Create 3 instances from the Retail_Item module\n",
    "    jacket = retail_item.Retail_Item()\n",
    "    designer_jeans = retail_item.Retail_Item()\n",
    "    shirt = retail_item.Retail_Item()\n",
    "\n",
    "    jacket.set_price(59.95)\n",
    "    jacket.set_units(12)\n",
    "    jacket.set_description(\"A black jacket that zips.\")\n",
    "\n",
    "    designer_jeans.set_price(34.95)\n",
    "    designer_jeans.set_units(40)\n",
    "    designer_jeans.set_description(\"A pair of Ralph Loren jeans.\")\n",
    "\n",
    "    shirt.set_price(24.95)\n",
    "    shirt.set_units(20)\n",
    "    shirt.set_description(\"A blue shirt with a red logo.\")\n",
    "\n",
    "    register = CashRegister()\n",
    "    register.purchase_item(jacket)\n",
    "    register.purchase_item(designer_jeans)\n",
    "    register.purchase_item(shirt)\n",
    "    \n",
    "\n",
    "if __name__ == '__main__':\n",
    "    main()"
   ]
  },
  {
   "cell_type": "markdown",
   "metadata": {
    "id": "NxsN1n6_yXlW"
   },
   "source": [
    "## Helpful Checks\n",
    "\n",
    "1.   Did you comment every line of code with meaningful information that will help others reading your code?\n",
    "2.   Did you use appropriate names for your variables, functions, and/or classes?\n",
    "3.   Did you include a high-level explanation for each solution?\n",
    "4.   Did you run each cell that includes a final solution so the output is saved and easily viewed by others?\n",
    "5.   Are you sharing an editable link (i.e., Share > Anyone with the link > Editor) if using Colaboratory, or did you make more than ten commits if using GitHub?\n",
    "6.   Did you remember to comment on the submissions of two other students?\n",
    "7.   Did you remember to screen record all of your work for at least one problem while turning off the generative AI features?\n",
    "8.   Did you remember to create a diagram (e.g., UML class diagram, flowchart, or hierarchical diagram) and include the link with your D2L submission?"
   ]
  },
  {
   "cell_type": "code",
   "execution_count": null,
   "metadata": {
    "id": "yRtnTuqDgYhg"
   },
   "outputs": [],
   "source": []
  }
 ],
 "metadata": {
  "colab": {
   "provenance": []
  },
  "kernelspec": {
   "display_name": "Python 3 (ipykernel)",
   "language": "python",
   "name": "python3"
  },
  "language_info": {
   "codemirror_mode": {
    "name": "ipython",
    "version": 3
   },
   "file_extension": ".py",
   "mimetype": "text/x-python",
   "name": "python",
   "nbconvert_exporter": "python",
   "pygments_lexer": "ipython3",
   "version": "3.12.11"
  }
 },
 "nbformat": 4,
 "nbformat_minor": 4
}
