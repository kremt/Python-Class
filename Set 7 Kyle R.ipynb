{
 "cells": [
  {
   "cell_type": "markdown",
   "metadata": {
    "id": "V_9gU-dva4Xx"
   },
   "source": [
    "# Chapter **7** Coding Set\n",
    "\n",
    "Work completed by [Kyle R].\n",
    "\n",
    "If you start to struggle with a problem for an extended period of time, remember you can go comment on two other submissions now (seeing other student work helps), or you can post in our discussion forum for questions, which can also earn you extra credit."
   ]
  },
  {
   "cell_type": "markdown",
   "metadata": {
    "id": "jW9S_3jcOdYt"
   },
   "source": [
    "## Imports\n",
    "\n",
    "**If your program requires additional modules, external resources, or files, use this cell to set them up**"
   ]
  },
  {
   "cell_type": "code",
   "execution_count": 1,
   "metadata": {
    "id": "mYW-OioYOu3g"
   },
   "outputs": [],
   "source": [
    "# configure your environment\n",
    "import random\n",
    "import matplotlib.pyplot\n",
    "# you can uncomment this code to make use of files stored in your Google Drive\n",
    "# from google.colab import drive\n",
    "# drive.mount('/content/drive')\n",
    "\n",
    "# you can uncomment the following line of code to use the pandas library\n",
    "# import pandas as pd"
   ]
  },
  {
   "cell_type": "markdown",
   "metadata": {
    "id": "VH4eGQyub8yQ"
   },
   "source": [
    "## Algorithm Workbench"
   ]
  },
  {
   "cell_type": "markdown",
   "metadata": {
    "id": "dBl7Q9AZcLMU"
   },
   "source": [
    "### Problem **8**\n",
    "\n",
    "#### Question Text\n",
    "\n",
    "*Assume list1 is a list of integers. Write a statement that uses a list comprehension to\n",
    " create a second list containing the squares of the elements of list1.*\n",
    "\n",
    "#### High-Level Overview\n",
    "\n",
    "*Easily done in a couple lines of code thanks to list comprehensions. Assign 5 random numbers to the first list and then iterate over ti with the ** operator for the second list.*\n"
   ]
  },
  {
   "cell_type": "code",
   "execution_count": 7,
   "metadata": {
    "id": "k4iGFPemb26z"
   },
   "outputs": [
    {
     "name": "stdout",
     "output_type": "stream",
     "text": [
      "The numbers are: [82, 23, 87, 69, 71]\n",
      " and their squares are: [6724, 529, 7569, 4761, 5041]\n"
     ]
    }
   ],
   "source": [
    "import random\n",
    "\n",
    "#Creating a list of integers\n",
    "list1 = [random.randint(1,100) for item in range(5)]\n",
    "\n",
    "#List of the squares of the elements in list1\n",
    "list2 = [item**2 for item in list1]\n",
    "\n",
    "print(f\"The numbers are: {list1}\\n and their squares are: {list2}\")"
   ]
  },
  {
   "cell_type": "markdown",
   "metadata": {
    "id": "o9xcij9hfq-5"
   },
   "source": [
    "### Problem **11**\n",
    "\n",
    "#### Question Text\n",
    "\n",
    "*Write a statement that creates a two-dimensional list with 5 rows and 3 columns. Then\n",
    " write nested loops that get an integer value from the user for each element in the list.*\n",
    "\n",
    "#### High-Level Overview\n",
    "\n",
    "*In an effort to be conise I tried to initalize and get the input for the list as a comprehension but I could not get it to work. Probably not a good practice even if I could have.*"
   ]
  },
  {
   "cell_type": "code",
   "execution_count": 17,
   "metadata": {
    "id": "ubgUdOUTl24X"
   },
   "outputs": [
    {
     "name": "stdin",
     "output_type": "stream",
     "text": [
      "Please enter a value: 1\n",
      "Please enter a value: 5\n",
      "Please enter a value: 6\n",
      "Please enter a value: 2\n",
      "Please enter a value: 7\n",
      "Please enter a value: 9\n",
      "Please enter a value: 4\n",
      "Please enter a value: 2\n",
      "Please enter a value: 7\n",
      "Please enter a value: 9\n",
      "Please enter a value: 3\n",
      "Please enter a value: 6\n",
      "Please enter a value: 8\n",
      "Please enter a value: 2\n",
      "Please enter a value: 4\n"
     ]
    },
    {
     "name": "stdout",
     "output_type": "stream",
     "text": [
      "[[1, 5, 6], [2, 7, 9], [4, 2, 7], [9, 3, 6], [8, 2, 4]]\n"
     ]
    }
   ],
   "source": [
    "#creating our 2d list with zeros for placeholders\n",
    "list2d = [[0 for c in range(3)] for r in range(5)]\n",
    "\n",
    "#for each row 'r', we need 3 numbers 'c' , and assign them by index [r][c].\n",
    "for r in range(5):\n",
    "    for c in range(3):\n",
    "        list2d [r][c] = (int(input('Please enter a value:')))\n",
    "\n",
    "print(list2d)"
   ]
  },
  {
   "cell_type": "markdown",
   "metadata": {
    "id": "2b2z_elQf2qP"
   },
   "source": [
    "## Programming Exercises"
   ]
  },
  {
   "cell_type": "markdown",
   "metadata": {
    "id": "klCvdzHvf74V"
   },
   "source": [
    "### Problem **1**\n",
    "\n",
    "#### Question Text\n",
    "\n",
    "*Design a program that asks the user to enter a store’s sales for each day of the week. The\n",
    " amounts should be stored in a list. Use a loop to calculate the total sales for the week and\n",
    " display the result.*\n",
    "\n",
    "#### High-Level Overview\n",
    "\n",
    "*Nothing too crazy here. I declaired the sales list in the main fuction so that it could be referenced by other functions later. Added a 'days' touple for iteration to get_sales because the days will not need to be changed and it made the output more readable.*\n"
   ]
  },
  {
   "cell_type": "code",
   "execution_count": 27,
   "metadata": {
    "id": "iQooA6BWlvx5"
   },
   "outputs": [
    {
     "name": "stdin",
     "output_type": "stream",
     "text": [
      "Please enter the amout of sales for Sunday: 155.63\n",
      "Please enter the amout of sales for Monday: 278.94\n",
      "Please enter the amout of sales for Tuesday: 155.78\n",
      "Please enter the amout of sales for Wednesday: 354.62\n",
      "Please enter the amout of sales for Thursday: 398.12\n",
      "Please enter the amout of sales for Friday: 275.55\n",
      "Please enter the amout of sales for Saturday: 189.99\n"
     ]
    },
    {
     "name": "stdout",
     "output_type": "stream",
     "text": [
      "The total weekly sales are: $1,808.63\n"
     ]
    }
   ],
   "source": [
    "#Main function of program\n",
    "def main ():\n",
    "    sales = []  #Container for the sales per day.\n",
    "    get_sales(sales)  #Call the input function and feed it the container.\n",
    "    print(f\"The total weekly sales are: ${sum(sales):,.2f}\")\n",
    "\n",
    "#Input function for the sales.\n",
    "def get_sales(sales):\n",
    "    #Touple for iteration\n",
    "    days = ('Sunday','Monday','Tuesday','Wednesday','Thursday','Friday','Saturday')\n",
    "    for day in days:\n",
    "        sales.append(float(input(f'Please enter the amout of sales for {day}:')))\n",
    "\n",
    "if __name__ == '__main__':\n",
    "    main()"
   ]
  },
  {
   "cell_type": "markdown",
   "metadata": {
    "id": "VxGugqDyxh_p"
   },
   "source": [
    "### Problem **14**\n",
    "\n",
    "#### Question Text\n",
    "\n",
    "*Create a text file that contains your expenses for last month in the following categories:<br>\n",
    " •Rent<br>\n",
    " •Gas<br>\n",
    " •Food<br>\n",
    " •Clothing<br>\n",
    " •Car payment<br>\n",
    " •Misc<br>\n",
    " Write a Python program that reads the data from the file and uses matplotlib to plot a\n",
    " pie chart showing how you spend your money.*\n",
    "\n",
    "#### High-Level Overview\n",
    "\n",
    "*My biggest struggle with this one was getting the matplotlib to work with Anaconda/Jupyter. It took me a few hours to figure out the install and get it working. I had to keep going back to the book to reference the module commands for pyplot, but all in all not too bad.*\n"
   ]
  },
  {
   "cell_type": "code",
   "execution_count": 8,
   "metadata": {
    "id": "CCUIs3F5xhdd"
   },
   "outputs": [
    {
     "data": {
      "image/png": "[encoded data removed]",
      "text/plain": [
       "<Figure size 640x480 with 1 Axes>"
      ]
     },
     "metadata": {},
     "output_type": "display_data"
    }
   ],
   "source": [
    "#Nonstandard library\n",
    "import matplotlib.pyplot as plt\n",
    "\n",
    "#Creat our document of expenses\n",
    "with open('Spending.txt', 'w+') as expense:\n",
    "    expense.write('1250\\n') #Rent\n",
    "    expense.write('200\\n')  #Gas\n",
    "    expense.write('400\\n')  #Food\n",
    "    expense.write('125\\n')  #Clothing\n",
    "    expense.write('450\\n')  #Car Payment\n",
    "    expense.write('80\\n')   #Misc\n",
    "\n",
    "#Main function to call our charting function\n",
    "def main():\n",
    "    chart()\n",
    "\n",
    "def chart():\n",
    "    #Lables for the pie slices.\n",
    "    categories = ['Rent','Gas','Food','Clothing','Car Payment','Misc']\n",
    "    with open('Spending.txt','r') as file:\n",
    "        #values pulled from our document\n",
    "        expenses = [float(line.strip()) for line in file]\n",
    "        plt.title('Expense Breakdown')\n",
    "        #create our pie chart with values from the document and our corrisponding lables.\n",
    "        plt.pie(expenses, labels = categories)\n",
    "        plt.show()\n",
    "\n",
    "if __name__ == '__main__':\n",
    "    main()"
   ]
  },
  {
   "cell_type": "markdown",
   "metadata": {
    "id": "kqfebVBKxlKj"
   },
   "source": [
    "### Problem **4**\n",
    "\n",
    "#### Question Text\n",
    "\n",
    "*Design a program that asks the user to enter a series of 20 numbers. The program should store the numbers in a list then display the following data:<br>\n",
    " •The lowest number in the list<br>\n",
    " •The highest number in the list<br>\n",
    " •The total of the numbers in the list<br>\n",
    " •The average of the numbers in the list*\n",
    "\n",
    "#### High-Level Overview\n",
    "\n",
    "*In two to three sentences at minimum, walk through your general approach to the problem and identify any particular issues you had.*\n"
   ]
  },
  {
   "cell_type": "code",
   "execution_count": 13,
   "metadata": {
    "id": "9yuG65pIxkQJ"
   },
   "outputs": [
    {
     "name": "stdin",
     "output_type": "stream",
     "text": [
      "Please enter a number: 150\n",
      "Please enter a number: 275\n",
      "Please enter a number: 4\n",
      "Please enter a number: 68\n",
      "Please enter a number: 115\n",
      "Please enter a number: 32\n",
      "Please enter a number: 84\n",
      "Please enter a number: 17\n",
      "Please enter a number: 99\n",
      "Please enter a number: 69\n",
      "Please enter a number: 100\n",
      "Please enter a number: 42\n",
      "Please enter a number: 24\n",
      "Please enter a number: 55\n",
      "Please enter a number: 672\n",
      "Please enter a number: 1\n",
      "Please enter a number: 450\n",
      "Please enter a number: 250\n",
      "Please enter a number: 150\n",
      "Please enter a number: 75\n"
     ]
    },
    {
     "ename": "IndexError",
     "evalue": "list index out of range",
     "output_type": "error",
     "traceback": [
      "\u001b[31m---------------------------------------------------------------------------\u001b[39m",
      "\u001b[31mIndexError\u001b[39m                                Traceback (most recent call last)",
      "\u001b[36mCell\u001b[39m\u001b[36m \u001b[39m\u001b[32mIn[13]\u001b[39m\u001b[32m, line 18\u001b[39m\n\u001b[32m     15\u001b[39m     \u001b[38;5;28;01mreturn\u001b[39;00m total, highest, lowest, average\n\u001b[32m     17\u001b[39m \u001b[38;5;28;01mif\u001b[39;00m \u001b[34m__name__\u001b[39m == \u001b[33m'\u001b[39m\u001b[33m__main__\u001b[39m\u001b[33m'\u001b[39m:\n\u001b[32m---> \u001b[39m\u001b[32m18\u001b[39m     main()\n",
      "\u001b[36mCell\u001b[39m\u001b[36m \u001b[39m\u001b[32mIn[13]\u001b[39m\u001b[32m, line 7\u001b[39m, in \u001b[36mmain\u001b[39m\u001b[34m()\u001b[39m\n\u001b[32m      5\u001b[39m     numbers.append(\u001b[38;5;28mint\u001b[39m(\u001b[38;5;28minput\u001b[39m(\u001b[33m'\u001b[39m\u001b[33mPlease enter a number:\u001b[39m\u001b[33m'\u001b[39m)))\n\u001b[32m      6\u001b[39m results = [ListInfo(numbers)]\n\u001b[32m----> \u001b[39m\u001b[32m7\u001b[39m \u001b[38;5;28mprint\u001b[39m(\u001b[33mf\u001b[39m\u001b[33m\"\u001b[39m\u001b[33mThe total of all numbers is:\u001b[39m\u001b[38;5;132;01m{\u001b[39;00mresults[\u001b[32m0\u001b[39m]\u001b[38;5;132;01m}\u001b[39;00m\u001b[33m, The highest value is:\u001b[39m\u001b[38;5;132;01m{\u001b[39;00mresults[\u001b[32m1\u001b[39m]\u001b[38;5;132;01m}\u001b[39;00m\u001b[33m,\u001b[39m\u001b[38;5;130;01m\\\u001b[39;00m\n\u001b[32m      8\u001b[39m \u001b[33mThe lowest value is:\u001b[39m\u001b[38;5;132;01m{\u001b[39;00mresults[\u001b[32m2\u001b[39m]\u001b[38;5;132;01m}\u001b[39;00m\u001b[33m, and the average of all numbers is:\u001b[39m\u001b[38;5;132;01m{\u001b[39;00mresults[\u001b[32m3\u001b[39m]\u001b[38;5;132;01m}\u001b[39;00m\u001b[33m\"\u001b[39m)\n",
      "\u001b[31mIndexError\u001b[39m: list index out of range"
     ]
    }
   ],
   "source": [
    "#Main function of the program.\n",
    "def main():\n",
    "    numbers = []  #Container for input.\n",
    "    for i in range(20):\n",
    "        numbers.append(int(input('Please enter a number:')))\n",
    "    results = [ListInfo(numbers)]\n",
    "    print(f\"The total of all numbers is:{results[0]}, The highest value is:{results[1]},\\\n",
    "    The lowest value is:{results[2]}, and the average of all numbers is:{results[3]}\")\n",
    "\n",
    "def ListInfo(a_list):\n",
    "    total = sum(a_list)\n",
    "    highest = max(a_list)\n",
    "    lowest = min(a_list)\n",
    "    average = total / len(a_list)\n",
    "    return total, highest, lowest, average\n",
    "\n",
    "if __name__ == '__main__':\n",
    "    main()"
   ]
  },
  {
   "cell_type": "markdown",
   "metadata": {
    "id": "uMknY49Txpht"
   },
   "source": [
    "### Problem **13**\n",
    "\n",
    "#### Question Text\n",
    "\n",
    "*Write a program that simulates a Magic 8 Ball, which is a fortune-telling toy that displays a\n",
    " random response to a yes or no question. In the student sample programs for this book, you\n",
    " will find a text file named 8_ball_responses.txt. The file contains 12 responses, such\n",
    " as “I don’t think so”, “Yes, of course!”, “I’m not sure”, and so forth. The program should read\n",
    " the responses from the file into a list. It should prompt the user to ask a question, then\n",
    " display one of the responses, randomly selected from the list. The program should repeat\n",
    " until the user is ready to quit.*\n",
    "\n",
    "#### High-Level Overview\n",
    "\n",
    "*In two to three sentences at minimum, walk through your general approach to the problem and identify any particular issues you had.*\n"
   ]
  },
  {
   "cell_type": "code",
   "execution_count": null,
   "metadata": {
    "id": "UByfwHefxpPH"
   },
   "outputs": [],
   "source": [
    "# add your code to this cell\n",
    "# remember to include comments like this one for most of your code\n",
    "# remember to \"Run cell\" once you're done, excecuting your code so the output is displayed below"
   ]
  },
  {
   "cell_type": "markdown",
   "metadata": {
    "id": "NxsN1n6_yXlW"
   },
   "source": [
    "## Helpful Checks\n",
    "\n",
    "1.   Did you comment every line of code with meaningful information that will help others reading your code?\n",
    "2.   Did you use appropriate names for your variables, functions, and/or classes?\n",
    "3.   Did you include a high-level explanation for each solution?\n",
    "4.   Did you run each cell that includes a final solution so the output is saved and easily viewed by others?\n",
    "5.   Are you sharing an editable link (i.e., Share > Anyone with the link > Editor) if using Colaboratory, or did you make more than ten commits if using GitHub?\n",
    "6.   Did you remember to comment on the submissions of two other students?"
   ]
  },
  {
   "cell_type": "code",
   "execution_count": null,
   "metadata": {
    "id": "wxzLHFoJTksu"
   },
   "outputs": [],
   "source": []
  }
 ],
 "metadata": {
  "colab": {
   "provenance": []
  },
  "kernelspec": {
   "display_name": "Python 3 (ipykernel)",
   "language": "python",
   "name": "python3"
  },
  "language_info": {
   "codemirror_mode": {
    "name": "ipython",
    "version": 3
   },
   "file_extension": ".py",
   "mimetype": "text/x-python",
   "name": "python",
   "nbconvert_exporter": "python",
   "pygments_lexer": "ipython3",
   "version": "3.12.11"
  }
 },
 "nbformat": 4,
 "nbformat_minor": 4
}
