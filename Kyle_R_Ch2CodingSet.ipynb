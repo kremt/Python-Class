{
 "cells": [
  {
   "cell_type": "markdown",
   "metadata": {
    "id": "V_9gU-dva4Xx"
   },
   "source": [
    "# Chapter 2 Coding Set\n",
    "\n",
    "Work completed by Kyle R.\n",
    "\n",
    "If you struggle with a problem for an extended period of time, remember you can go comment on two other submissions now (seeing other student work helps), or you can post in our discussion forum for questions, which can also earn you extra credit."
   ]
  },
  {
   "cell_type": "markdown",
   "metadata": {
    "id": "jW9S_3jcOdYt"
   },
   "source": [
    "## Imports\n",
    "\n",
    "**If your program requires additional modules, external resources, or files, use this cell to set them up**"
   ]
  },
  {
   "cell_type": "code",
   "execution_count": 20,
   "metadata": {
    "id": "mYW-OioYOu3g"
   },
   "outputs": [],
   "source": [
    "# configure your environment\n",
    "\n",
    "# you can uncomment this code to make use of files stored in your Google Drive\n",
    "# from google.colab import drive\n",
    "# drive.mount('/content/drive')\n",
    "\n",
    "# you can uncomment the following line of code to use the pandas library\n",
    "# import pandas as pd"
   ]
  },
  {
   "cell_type": "markdown",
   "metadata": {
    "id": "VH4eGQyub8yQ"
   },
   "source": [
    "## Algorithm Workbench"
   ]
  },
  {
   "cell_type": "markdown",
   "metadata": {
    "id": "dBl7Q9AZcLMU"
   },
   "source": [
    "### Problem **4**\n",
    "\n",
    "#### Question Text\n",
    "\n",
    " *Assume the variables result, w, x, y, and z are all integers, and that w = 5, x =\n",
    " 4, y = 8, and z = 2. What value will be stored in result after each of the\n",
    " following statements execute?<br>\n",
    "A. result = x + y<br>\n",
    "B. result = z * 2<br>\n",
    "C. result = y / x<br>\n",
    "D. result = y – z<br>\n",
    "E. result = w // z*\n",
    "#### High-Level Overview\n",
    "\n",
    "*For this problem I chose to assign my veriables in a single line as an experiment. It isn't the cleanest method but with so few and simple veriables it worked fine. After that I assigned the veriable \"result\" to the first expression, printed the answer, then reassined it to the next and repeated the process.*"
   ]
  },
  {
   "cell_type": "code",
   "execution_count": 9,
   "metadata": {
    "id": "k4iGFPemb26z"
   },
   "outputs": [
    {
     "name": "stdout",
     "output_type": "stream",
     "text": [
      "A= 12\n",
      "B= 4\n",
      "C= 2.0\n",
      "D= 6\n",
      "E= 2\n"
     ]
    }
   ],
   "source": [
    "#Lets start by declaring our variables:\n",
    "w,x,y,z = 5, 4, 8, 2\n",
    "\n",
    "#assiging 'result' veriable to each problem and then printing the answer before reassigning and repeating.\n",
    "result = x + y\n",
    "print('A=', result)\n",
    "result = z * 2\n",
    "print('B=', result)\n",
    "result = y / x\n",
    "print('C=', result)\n",
    "result = y - z\n",
    "print('D=', result)\n",
    "result = w // z\n",
    "print('E=', result)"
   ]
  },
  {
   "cell_type": "markdown",
   "metadata": {
    "id": "2b2z_elQf2qP"
   },
   "source": [
    "## Programming Exercises"
   ]
  },
  {
   "cell_type": "markdown",
   "metadata": {
    "id": "klCvdzHvf74V"
   },
   "source": [
    "### Problem 2 *Sales Prediction*\n",
    "\n",
    "#### Question Text\n",
    "\n",
    "*A company has determined that its annual profit is typically 23 percent of total sales. Write\n",
    " a program that asks the user to enter the projected amount of total sales, then displays the\n",
    " profit that will be made from that amount.*\n",
    "\n",
    "#### High-Level Overview\n",
    "\n",
    "*For this exercise I begain by setting a veriable \"total_sales\" to the users input and made sure it was stored as a float so as not to run into any logic errors later. I then used an F-string to both do the computation and display the result in a single line of code. I added specifiers to add commas and limit it to two decimals because we are dealing with money.*"
   ]
  },
  {
   "cell_type": "code",
   "execution_count": 21,
   "metadata": {
    "id": "iQooA6BWlvx5"
   },
   "outputs": [
    {
     "name": "stdin",
     "output_type": "stream",
     "text": [
      "Please enter Total Sales: 123465.55\n"
     ]
    },
    {
     "name": "stdout",
     "output_type": "stream",
     "text": [
      "Projected Profit is:  28,397.08\n"
     ]
    }
   ],
   "source": [
    "# Lets start by getting the total sales from the user.\n",
    "\n",
    "total_sales = float(input('Please enter Total Sales:'))\n",
    "\n",
    "#Using a formatted print call to both do and output the computaion.\n",
    "\n",
    "print(f'Projected Profit is: {total_sales * 0.23: ,.2f}')     #Because we are dealing with money, I added the \",\" and \".2\" specifiers."
   ]
  },
  {
   "cell_type": "markdown",
   "metadata": {
    "id": "VxGugqDyxh_p"
   },
   "source": [
    "### Problem 13 *Planting Grapevines*\n",
    "\n",
    "#### Question Text\n",
    "\n",
    "A vineyard owner is planting several new rows of grapevines, and needs to know how\n",
    " many grapevines to plant in each row. She has determined that after measuring the length of\n",
    " a future row, she can use the following formula to calculate the number of vines that will fit\n",
    " in the row, along with the trellis end-post assemblies that will need to be constructed at each\n",
    " end of the row:<br>\n",
    "\n",
    " V = (R−2*E)/S\n",
    "\n",
    " The terms in the formula are:<br>\n",
    " V is the number of grapevines that will fit in the row.<br>\n",
    " R is the length of the row, in feet.<br>\n",
    " E is the amount of space, in feet, used by an end-post assembly.<br>\n",
    " S is the space between vines, in feet.<br>\n",
    "\n",
    " Write a program that makes the calculation for the vineyard owner. The program should\n",
    " ask the user to input the following:<br>\n",
    " •The length of the row, in feet<br>\n",
    " •The amount of space used by an end-post assembly, in feet<br>\n",
    " •The amount of space between the vines, in feet<br>\n",
    " \n",
    " Once the input data has been entered, the program should calculate and display the\n",
    " number of grapevines that will fit in the row.\n",
    "\n",
    "#### High-Level Overview\n",
    "\n",
    "*In two to three sentences at minimum, walk through your general approach to the problem and identify any particular issues you had.*\n"
   ]
  },
  {
   "cell_type": "code",
   "execution_count": 24,
   "metadata": {
    "id": "CCUIs3F5xhdd"
   },
   "outputs": [
    {
     "name": "stdin",
     "output_type": "stream",
     "text": [
      "Please enter the length of the row (in feet): 24\n",
      "Please enter the amout of space used by the end-post assembly (in feet): 2\n",
      "Please enter the space between vines (in feet): 4\n"
     ]
    },
    {
     "name": "stdout",
     "output_type": "stream",
     "text": [
      "The number of grapevines that will fit in the row is: 5.0 .0f\n"
     ]
    }
   ],
   "source": [
    "# We need data to work with. Lets get it from the user and store it in our veriables.\n",
    "\n",
    "R= int(input('Please enter the length of the row (in feet):'))\n",
    "E= int(input('Please enter the amout of space used by the end-post assembly (in feet):'))\n",
    "S= int(input('Please enter the space between vines (in feet):'))\n",
    "\n",
    " # V = (R−2*E)/S      (reminding myself of my formula)\n",
    "print (f\"The number of grapevines that will fit in the row is: {(R-2*E)/S: .0f}\")"
   ]
  },
  {
   "cell_type": "markdown",
   "metadata": {
    "id": "NxsN1n6_yXlW"
   },
   "source": [
    "## Helpful Checks\n",
    "\n",
    "1.   Did you comment every line of code with meaningful information that will help others reading your code?\n",
    "2.   Did you use appropriate names for your variables, functions, and/or classes?\n",
    "3.   Did you include a high-level explanation for each solution?\n",
    "4.   Did you run each cell that includes a final solution so the output is saved and easily viewed by others?\n",
    "5.   Are you sharing an editable link (i.e., Share > Anyone with the link > Editor) if using Colaboratory, or did you make more than ten commits if using GitHub?\n",
    "6.   Did you remember to comment on the submissions of two other students?"
   ]
  },
  {
   "cell_type": "code",
   "execution_count": null,
   "metadata": {
    "id": "wxzLHFoJTksu"
   },
   "outputs": [],
   "source": []
  }
 ],
 "metadata": {
  "colab": {
   "provenance": []
  },
  "kernelspec": {
   "display_name": "Python 3 (ipykernel)",
   "language": "python",
   "name": "python3"
  },
  "language_info": {
   "codemirror_mode": {
    "name": "ipython",
    "version": 3
   },
   "file_extension": ".py",
   "mimetype": "text/x-python",
   "name": "python",
   "nbconvert_exporter": "python",
   "pygments_lexer": "ipython3",
   "version": "3.12.7"
  }
 },
 "nbformat": 4,
 "nbformat_minor": 4
}
