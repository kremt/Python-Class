{
 "cells": [
  {
   "cell_type": "code",
   "execution_count": 10,
   "id": "adb1fb9e-6250-4146-9715-e341684da703",
   "metadata": {},
   "outputs": [
    {
     "name": "stdout",
     "output_type": "stream",
     "text": [
      "38\n",
      "The string is not divisable by 5.\n",
      "Hello, little people of Earth!\n",
      "Hello\n",
      "Helloooooooooooooooooooooooooooooooooooooooooooooooooooooooooooo\n"
     ]
    }
   ],
   "source": [
    "#Veriable string pasted from exam question.\n",
    "greeting = \"  Hello, little people of Earth!      \"\n",
    "\n",
    "#A main function to run our program.\n",
    "def main():\n",
    "    #This will print the character length of the veriable \"greeting.\"\n",
    "    print(len(greeting))\n",
    "    #IF the length of greeting returns no remainder after division then true, else false.\n",
    "    if len(greeting) %5 == 0:\n",
    "        print('The string is divisable by 5.')\n",
    "    else:\n",
    "        print('The string is not divisable by 5.')\n",
    "    #A new string without the empth spaces.\n",
    "    stripped_greeting = greeting.strip()\n",
    "    print(stripped_greeting)\n",
    "    #A new greeting using the first 5 characters from the stripped greeting.\n",
    "    short_greeting = stripped_greeting[:5]\n",
    "    print(short_greeting)\n",
    "    #Appending 59 'o's to the short greeting.\n",
    "    short_greeting += \"o\"*59\n",
    "    print(short_greeting)\n",
    "\n",
    "\n",
    "main()\n"
   ]
  },
  {
   "cell_type": "code",
   "execution_count": 19,
   "id": "79300f3d-5c64-47c9-a588-b8f61bd08329",
   "metadata": {},
   "outputs": [
    {
     "name": "stdin",
     "output_type": "stream",
     "text": [
      "Please enter a number: 21\n"
     ]
    },
    {
     "name": "stdout",
     "output_type": "stream",
     "text": [
      "Super!\n",
      "Duper\n",
      "Superduper!\n"
     ]
    }
   ],
   "source": [
    "#Question 3\n",
    "#Main function\n",
    "def main():\n",
    "    number = int(input('Please enter a number:'))\n",
    "    super_duper(number)\n",
    "\n",
    "def super_duper(x):\n",
    "    #Flag veriable to store the results of our tests.\n",
    "    condition_A = x % 3 == 0\n",
    "    condition_B = x % 7 == 0\n",
    "    #Printing a message based on the condition flag.\n",
    "    if condition_A:\n",
    "        print('Super!')\n",
    "    if condition_B:\n",
    "        print('Duper')\n",
    "    if (condition_A) and (condition_B):\n",
    "        print('Superduper!')\n",
    "\n",
    "main()"
   ]
  },
  {
   "cell_type": "code",
   "execution_count": 21,
   "id": "19c2ea2d-35f1-4539-8b6d-4daa2f99f07b",
   "metadata": {},
   "outputs": [],
   "source": [
    "#Question 4\n",
    "\n",
    "#Base class 'Glasses'\n",
    "class Glasses:\n",
    "    #attributes for Glasses.\n",
    "    __price = 1.00\n",
    "    __prescription = 15.0\n",
    "    #Methods for Glasses.\n",
    "    def __init__(self, color, price, prescription):\n",
    "        self.__price = price\n",
    "        self.__prescription = prescription\n",
    "    #setter functions.\n",
    "    def set_price(self, price):\n",
    "        self.__price = price\n",
    "    def set_prescription(self, prescription):\n",
    "        self.__prescription = prescription\n",
    "    #getter functions.\n",
    "    def get_price(self):\n",
    "        return self.__price\n",
    "    def get_prescription(self):\n",
    "        return self.__prescription\n",
    "    \n",
    "    def __str__(self):\n",
    "        return f'The prescription for these glasses is {self.__prescription} and they cost ${self.__price:,.2f}'\n",
    "\n",
    "#A Bifocal IS A Glasses.\n",
    "class Bifocals(Glasses):\n",
    "    #Specialized attributes.\n",
    "    __reading_prescription = 15.0\n",
    "\n",
    "    #Specialized methods.\n",
    "    def __init__(self, color, price, prescription, reading_prescription):\n",
    "        self.__reading_prescription = reading_prescription\n",
    "    #setter and getter for class attribute.\n",
    "    def set_reading_prescription(self, reading_prescription):\n",
    "        self.__reading_prescription = reading_prescription\n",
    "    def get_reading_prescription(self):\n",
    "        return self.__reading_prescription\n",
    "    def __str__(self):\n",
    "        return f'The prescription for these bifocals is {self.__reading__prescription}'\n",
    "\n",
    "    "
   ]
  },
  {
   "cell_type": "code",
   "execution_count": null,
   "id": "cd91a9ba-f92a-4307-bc85-2690332cafdf",
   "metadata": {},
   "outputs": [],
   "source": []
  }
 ],
 "metadata": {
  "kernelspec": {
   "display_name": "Python 3 (ipykernel)",
   "language": "python",
   "name": "python3"
  },
  "language_info": {
   "codemirror_mode": {
    "name": "ipython",
    "version": 3
   },
   "file_extension": ".py",
   "mimetype": "text/x-python",
   "name": "python",
   "nbconvert_exporter": "python",
   "pygments_lexer": "ipython3",
   "version": "3.12.11"
  }
 },
 "nbformat": 4,
 "nbformat_minor": 5
}
