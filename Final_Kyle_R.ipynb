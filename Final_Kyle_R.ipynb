{
 "cells": [
  {
   "cell_type": "code",
   "execution_count": 10,
   "id": "adb1fb9e-6250-4146-9715-e341684da703",
   "metadata": {},
   "outputs": [
    {
     "name": "stdout",
     "output_type": "stream",
     "text": [
      "38\n",
      "The string is not divisable by 5.\n",
      "Hello, little people of Earth!\n",
      "Hello\n",
      "Helloooooooooooooooooooooooooooooooooooooooooooooooooooooooooooo\n"
     ]
    }
   ],
   "source": [
    "#Veriable string pasted from exam question.\n",
    "greeting = \"  Hello, little people of Earth!      \"\n",
    "\n",
    "#A main function to run our program.\n",
    "def main():\n",
    "    #This will print the character length of the veriable \"greeting.\"\n",
    "    print(len(greeting))\n",
    "    #IF the length of greeting returns no remainder after division then true, else false.\n",
    "    if len(greeting) %5 == 0:\n",
    "        print('The string is divisable by 5.')\n",
    "    else:\n",
    "        print('The string is not divisable by 5.')\n",
    "    #A new string without the empth spaces.\n",
    "    stripped_greeting = greeting.strip()\n",
    "    print(stripped_greeting)\n",
    "    #A new greeting using the first 5 characters from the stripped greeting.\n",
    "    short_greeting = stripped_greeting[:5]\n",
    "    print(short_greeting)\n",
    "    #Appending 59 'o's to the short greeting.\n",
    "    short_greeting += \"o\"*59\n",
    "    print(short_greeting)\n",
    "\n",
    "\n",
    "main()\n"
   ]
  },
  {
   "cell_type": "code",
   "execution_count": null,
   "id": "79300f3d-5c64-47c9-a588-b8f61bd08329",
   "metadata": {},
   "outputs": [],
   "source": []
  }
 ],
 "metadata": {
  "kernelspec": {
   "display_name": "Python 3 (ipykernel)",
   "language": "python",
   "name": "python3"
  },
  "language_info": {
   "codemirror_mode": {
    "name": "ipython",
    "version": 3
   },
   "file_extension": ".py",
   "mimetype": "text/x-python",
   "name": "python",
   "nbconvert_exporter": "python",
   "pygments_lexer": "ipython3",
   "version": "3.12.11"
  }
 },
 "nbformat": 4,
 "nbformat_minor": 5
}
