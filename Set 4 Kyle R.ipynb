{
 "cells": [
  {
   "cell_type": "markdown",
   "metadata": {
    "id": "V_9gU-dva4Xx"
   },
   "source": [
    "# Chapter **4** Coding Set\n",
    "\n",
    "Work completed by [Kyle R].\n",
    "\n",
    "If you start to struggle with a problem for an extended period of time, remember you can go comment on two other submissions now (seeing other student work helps), or you can post in our discussion forum for questions, which can also earn you extra credit."
   ]
  },
  {
   "cell_type": "markdown",
   "metadata": {
    "id": "jW9S_3jcOdYt"
   },
   "source": [
    "## Imports\n",
    "\n",
    "**If your program requires additional modules, external resources, or files, use this cell to set them up**"
   ]
  },
  {
   "cell_type": "code",
   "execution_count": null,
   "metadata": {
    "id": "mYW-OioYOu3g"
   },
   "outputs": [],
   "source": [
    "# configure your environment\n",
    "\n",
    "# you can uncomment this code to make use of files stored in your Google Drive\n",
    "# from google.colab import drive\n",
    "# drive.mount('/content/drive')\n",
    "\n",
    "# you can uncomment the following line of code to use the pandas library\n",
    "# import pandas as pd"
   ]
  },
  {
   "cell_type": "markdown",
   "metadata": {
    "id": "VH4eGQyub8yQ"
   },
   "source": [
    "## Algorithm Workbench"
   ]
  },
  {
   "cell_type": "markdown",
   "metadata": {
    "id": "dBl7Q9AZcLMU"
   },
   "source": [
    "### Problem **5**\n",
    "\n",
    "#### Question Text\n",
    "\n",
    "*Write a loop that calculates the total of the following series of numbers:<br>1/30+2/29+3/28+...30/1*\n",
    "\n",
    "#### High-Level Overview\n",
    "\n",
    "*This one was straight forward. I used the numerator and denominator as both the control for the loop and the equation being performed as kind of a \"two birds, one stone\" approach*\n"
   ]
  },
  {
   "cell_type": "code",
   "execution_count": 3,
   "metadata": {
    "id": "k4iGFPemb26z"
   },
   "outputs": [
    {
     "name": "stdout",
     "output_type": "stream",
     "text": [
      "93.84460105853213\n"
     ]
    }
   ],
   "source": [
    "#Setting the veriables to start:\n",
    "numerator = 1\n",
    "denominator = 30\n",
    "total = 0\n",
    "\n",
    "while (numerator < 31 or denominator > 0):\n",
    "    total += (numerator / denominator)     #accumulating the result of each iteration\n",
    "    #control the condition and chage our equation\n",
    "    numerator += 1\n",
    "    denominator -= 1\n",
    "else:\n",
    "    print(total)"
   ]
  },
  {
   "cell_type": "markdown",
   "metadata": {
    "id": "o9xcij9hfq-5"
   },
   "source": [
    "### Problem **8**\n",
    "\n",
    "#### Question Text\n",
    "\n",
    "*Write code that prompts the user to enter a positive nonzero number and validates the input.*\n",
    "\n",
    "#### High-Level Overview\n",
    "\n",
    "*Using the walrus oporator I set the input within the condition statement and tested it to be positive and nonzero. If it is the loop breaks and the program moves on. If not an error message is displayed.*"
   ]
  },
  {
   "cell_type": "code",
   "execution_count": 7,
   "metadata": {
    "id": "ubgUdOUTl24X"
   },
   "outputs": [
    {
     "name": "stdin",
     "output_type": "stream",
     "text": [
      "Please enter a positive, nonzero number: 7\n"
     ]
    },
    {
     "name": "stdout",
     "output_type": "stream",
     "text": [
      "recording 7\n"
     ]
    }
   ],
   "source": [
    "#Getting input and testing for greater than 0\n",
    "while (num := int(input('Please enter a positive, nonzero number:'))) > 0:\n",
    "    print(f'recording {num}')\n",
    "    #If entered correctly the loop exits\n",
    "    break\n",
    "#If the input is zero or negative, and error message is displayed.\n",
    "else:\n",
    "    print('Invalid. Input must be greater than 0')"
   ]
  },
  {
   "cell_type": "markdown",
   "metadata": {
    "id": "2b2z_elQf2qP"
   },
   "source": [
    "## Programming Exercises"
   ]
  },
  {
   "cell_type": "markdown",
   "metadata": {
    "id": "klCvdzHvf74V"
   },
   "source": [
    "### Problem **1**\n",
    "\n",
    "#### Question Text\n",
    "\n",
    "*A bug collector collects bugs every day for five days. Write a program that keeps a running\n",
    " total of the number of bugs collected during the five days. The loop should ask for the\n",
    " number of bugs collected for each day, and when the loop is finished, the program should\n",
    " display the total number of bugs collected.*\n",
    "\n",
    "#### High-Level Overview\n",
    "\n",
    "*I used a for loop since we were iterating a specific number of times. By making a list of the days to iterate over I was able to reference the control veriable in the input string to make it more readable without a lot of exta typing.*\n"
   ]
  },
  {
   "cell_type": "code",
   "execution_count": 11,
   "metadata": {
    "id": "iQooA6BWlvx5"
   },
   "outputs": [
    {
     "name": "stdin",
     "output_type": "stream",
     "text": [
      "How many bugs did you collect on Monday? 1\n",
      "How many bugs did you collect on Tuesday? 2\n",
      "How many bugs did you collect on Wednesday? 3\n",
      "How many bugs did you collect on Thursday? 4\n",
      "How many bugs did you collect on Friday? 5\n"
     ]
    },
    {
     "name": "stdout",
     "output_type": "stream",
     "text": [
      "You have collected 15 bugs.\n"
     ]
    }
   ],
   "source": [
    "#Declaring veriable.\n",
    "bugs = 0\n",
    "#Since the number of iterations is specific, we'll use a For loop.\n",
    "for day in ['Monday', 'Tuesday', 'Wednesday', 'Thursday', 'Friday']:\n",
    "    bugs += (int(input(f'How many bugs did you collect on {day}?')))\n",
    "\n",
    "print(f'You have collected {bugs} bugs.')"
   ]
  },
  {
   "cell_type": "markdown",
   "metadata": {
    "id": "VxGugqDyxh_p"
   },
   "source": [
    "### Problem **4**\n",
    "\n",
    "#### Question Text\n",
    "\n",
    "*The distance a vehicle travels can be calculated as follows:<br>distance=speed×time<br>Write a program that asks the user for the speed of a vehicle (in miles per hour) and the number of hours it has traveled. It should then use a loop to display the distance the vehicle has traveled for each hour of that time period.*\n",
    "\n",
    "#### High-Level Overview\n",
    "\n",
    "*In two to three sentences at minimum, walk through your general approach to the problem and identify any particular issues you had.*\n"
   ]
  },
  {
   "cell_type": "code",
   "execution_count": 13,
   "metadata": {
    "id": "CCUIs3F5xhdd"
   },
   "outputs": [
    {
     "name": "stdin",
     "output_type": "stream",
     "text": [
      "What is your average speed? 1\n",
      "How long have you been driving? (in hours) 1\n"
     ]
    },
    {
     "name": "stdout",
     "output_type": "stream",
     "text": [
      "2\n"
     ]
    }
   ],
   "source": [
    "#D=S*T  to remind myself of the formula we are using\n",
    "#Declare variables.\n",
    "speed = int(input('What is your average speed?'))\n",
    "hrs = 1 + int(input('How long have you been driving? (in hours)'))\n",
    "distance = 0\n",
    "#the input will be an integer that we will loop over a set number of times, so we'll use a for loop.\n",
    "for hours in range(1,hrs):\n",
    "    distance += speed*hours"
   ]
  },
  {
   "cell_type": "markdown",
   "metadata": {
    "id": "kqfebVBKxlKj"
   },
   "source": [
    "### Problem **12**\n",
    "\n",
    "#### Question Text\n",
    "\n",
    "*Write a program that predicts the approximate size of a population of organisms. The application should prompt the user to enter the starting number of organisms, the average daily population increase (as a percentage), and the number of days the organisms will be left to multiply. For example, assume the user enters the following values:<br>\n",
    " Starting number of organisms: 2<br>\n",
    " Average daily increase: 30% <br>\n",
    " Number of days to multiply: 10*\n",
    "\n",
    "#### High-Level Overview\n",
    "\n",
    "*In two to three sentences at minimum, walk through your general approach to the problem and identify any particular issues you had.*\n"
   ]
  },
  {
   "cell_type": "code",
   "execution_count": null,
   "metadata": {
    "id": "9yuG65pIxkQJ"
   },
   "outputs": [],
   "source": [
    "# add your code to this cell\n",
    "# remember to include comments like this one for most of your code\n",
    "# remember to \"Run cell\" once you're done, excecuting your code so the output is displayed below"
   ]
  },
  {
   "cell_type": "markdown",
   "metadata": {
    "id": "uMknY49Txpht"
   },
   "source": [
    "### Problem **15**\n",
    "\n",
    "#### Question Text\n",
    "\n",
    "*In this chapter, you saw an example of a loop that draws a square. Write a turtle graphics program that uses nested loops to draw 100 squares, to create the design shown in Figure 4-13:*\n",
    "\n",
    "#### High-Level Overview\n",
    "\n",
    "*In two to three sentences at minimum, walk through your general approach to the problem and identify any particular issues you had.*\n"
   ]
  },
  {
   "cell_type": "code",
   "execution_count": null,
   "metadata": {
    "id": "UByfwHefxpPH"
   },
   "outputs": [],
   "source": [
    "# add your code to this cell\n",
    "# remember to include comments like this one for most of your code\n",
    "# remember to \"Run cell\" once you're done, excecuting your code so the output is displayed below"
   ]
  },
  {
   "cell_type": "markdown",
   "metadata": {
    "id": "NxsN1n6_yXlW"
   },
   "source": [
    "## Helpful Checks\n",
    "\n",
    "1.   Did you comment every line of code with meaningful information that will help others reading your code?\n",
    "2.   Did you use appropriate names for your variables, functions, and/or classes?\n",
    "3.   Did you include a high-level explanation for each solution?\n",
    "4.   Did you run each cell that includes a final solution so the output is saved and easily viewed by others?\n",
    "5.   Are you sharing an editable link (i.e., Share > Anyone with the link > Editor) if using Colaboratory, or did you make more than ten commits if using GitHub?\n",
    "6.   Did you remember to comment on the submissions of two other students?"
   ]
  },
  {
   "cell_type": "code",
   "execution_count": null,
   "metadata": {
    "id": "wxzLHFoJTksu"
   },
   "outputs": [],
   "source": []
  }
 ],
 "metadata": {
  "colab": {
   "provenance": []
  },
  "kernelspec": {
   "display_name": "Python 3 (ipykernel)",
   "language": "python",
   "name": "python3"
  },
  "language_info": {
   "codemirror_mode": {
    "name": "ipython",
    "version": 3
   },
   "file_extension": ".py",
   "mimetype": "text/x-python",
   "name": "python",
   "nbconvert_exporter": "python",
   "pygments_lexer": "ipython3",
   "version": "3.12.7"
  }
 },
 "nbformat": 4,
 "nbformat_minor": 4
}
