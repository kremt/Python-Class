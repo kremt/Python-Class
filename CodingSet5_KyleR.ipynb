{
 "cells": [
  {
   "cell_type": "markdown",
   "metadata": {
    "id": "V_9gU-dva4Xx"
   },
   "source": [
    "# Chapter **5** Coding Set\n",
    "\n",
    "Work completed by [Kyle R].\n",
    "\n",
    "If you start to struggle with a problem for an extended period of time, remember you can go comment on two other submissions now (seeing other student work helps), or you can post in our discussion forum for questions, which can also earn you extra credit."
   ]
  },
  {
   "cell_type": "markdown",
   "metadata": {
    "id": "jW9S_3jcOdYt"
   },
   "source": [
    "## Imports\n",
    "\n",
    "**If your program requires additional modules, external resources, or files, use this cell to set them up**"
   ]
  },
  {
   "cell_type": "code",
   "execution_count": 29,
   "metadata": {
    "id": "mYW-OioYOu3g"
   },
   "outputs": [],
   "source": [
    "# configure your environment\n",
    "import random\n",
    "import math\n",
    "# you can uncomment this code to make use of files stored in your Google Drive\n",
    "# from google.colab import drive\n",
    "# drive.mount('/content/drive')\n",
    "\n",
    "# you can uncomment the following line of code to use the pandas library\n",
    "# import pandas as pd"
   ]
  },
  {
   "cell_type": "markdown",
   "metadata": {
    "id": "VH4eGQyub8yQ"
   },
   "source": [
    "## Algorithm Workbench"
   ]
  },
  {
   "cell_type": "markdown",
   "metadata": {
    "id": "dBl7Q9AZcLMU"
   },
   "source": [
    "### Problem **6**\n",
    "\n",
    "#### Question Text\n",
    "\n",
    "*Write a statement that generates a random number in the range of 1 through 100 and\n",
    " assigns it to a variable named rand.*\n",
    "\n",
    "#### High-Level Overview\n",
    "\n",
    "*This is a very straight forward problem and so I challenged myself by trying to accomplish it in a single line of code using F-string and walrus oporator. I was not able to get it to work that way however.*\n"
   ]
  },
  {
   "cell_type": "code",
   "execution_count": 5,
   "metadata": {
    "id": "k4iGFPemb26z"
   },
   "outputs": [
    {
     "name": "stdout",
     "output_type": "stream",
     "text": [
      "Your random number is:73\n"
     ]
    }
   ],
   "source": [
    "#Generating a random number between 1-100 and storing it.\n",
    "rand = random.randint(1,100)\n",
    "#Output the number.\n",
    "print(f'Your random number is:{rand}')"
   ]
  },
  {
   "cell_type": "markdown",
   "metadata": {
    "id": "o9xcij9hfq-5"
   },
   "source": [
    "### Problem **8**\n",
    "\n",
    "#### Question Text\n",
    "\n",
    "*A program contains the following function definition:<br>def cube(num):<br>return num * num * num<br>\n",
    "Write a statement that passes the value 4 to this function and assigns its return value to the variable result.*\n",
    "\n",
    "#### High-Level Overview\n",
    "\n",
    "*For this question I used the predefinied funciton for the computation and defined a main function to call it and pass the input for it to work with. I could have gotten by without a main fuction and just used the print statemnt to call cube(4), but this seemed more complete.*"
   ]
  },
  {
   "cell_type": "code",
   "execution_count": 10,
   "metadata": {
    "id": "ubgUdOUTl24X"
   },
   "outputs": [
    {
     "name": "stdout",
     "output_type": "stream",
     "text": [
      "The cube of 4 is: 64\n"
     ]
    }
   ],
   "source": [
    "#Defining a main function to call our given function and pass an input as the argument.\n",
    "def main(x):\n",
    "    print(f'The cube of {x} is: {cube(x)}')\n",
    "\n",
    "#defining our given function:\n",
    "def cube(num):\n",
    "    return num*num*num\n",
    "\n",
    "#Calling main and passing 4\n",
    "main(4)"
   ]
  },
  {
   "cell_type": "markdown",
   "metadata": {
    "id": "2b2z_elQf2qP"
   },
   "source": [
    "## Programming Exercises"
   ]
  },
  {
   "cell_type": "markdown",
   "metadata": {
    "id": "klCvdzHvf74V"
   },
   "source": [
    "### Problem **1**\n",
    "\n",
    "#### Question Text\n",
    "\n",
    "*Write a program that asks the user to enter a distance in kilometers, then uses a function to convert that distance to miles. The conversion formula is as follows:<br>Miles = Kilometers × 0.6214*\n",
    "\n",
    "#### High-Level Overview\n",
    "\n",
    "*For this exercise I defined a funciton to take an argument of miles and return that number converted to kilometers. Then I defined Main to get an input and call the conversion passing it that input. I was able to do that inside of an F-String to save myself a couple of lines.*\n"
   ]
  },
  {
   "cell_type": "code",
   "execution_count": 14,
   "metadata": {
    "id": "iQooA6BWlvx5"
   },
   "outputs": [
    {
     "name": "stdin",
     "output_type": "stream",
     "text": [
      "Please enter the numnber of miles: 10\n"
     ]
    },
    {
     "name": "stdout",
     "output_type": "stream",
     "text": [
      "10 converts to  6.21 kilometers.\n"
     ]
    }
   ],
   "source": [
    "#Define a main fuction to get input and pass it to our conversion function.\n",
    "def main():\n",
    "    miles = (int(input('Please enter the numnber of miles:')))\n",
    "    print(f'{miles} converts to {miles_to_Km(miles): .2F} kilometers.')\n",
    "\n",
    "#Define a function that takes in a number of miles and returns the KM conversion.\n",
    "def miles_to_Km(miles):\n",
    "    return miles * 0.6214\n",
    "\n",
    "main()"
   ]
  },
  {
   "cell_type": "markdown",
   "metadata": {
    "id": "VxGugqDyxh_p"
   },
   "source": [
    "### Problem **16**\n",
    "\n",
    "#### Question Text\n",
    "\n",
    "*A prime number is a number that is only evenly divisible by itself and 1. For example, the number 5 is prime because it can only be evenly divided by 1 and 5. The number 6, however, is not prime because it can be divided evenly by 1, 2, 3, and 6. Write a Boolean function named is_prime which takes an integer as an argument and returns true if the argument is a prime number, or false otherwise. Use the function in a program that prompts the user to enter a number then displays a message indicating whether the number is prime.*\n",
    "\n",
    "#### High-Level Overview\n",
    "\n",
    "*This one fought with me a little bit. I tried to do it without going back and referencing the video. I struggled a bit with the syntax for the number range and I have an indentation issue that was giving me a bad output. All in all, not too difficult.*\n"
   ]
  },
  {
   "cell_type": "code",
   "execution_count": 25,
   "metadata": {
    "id": "CCUIs3F5xhdd"
   },
   "outputs": [
    {
     "name": "stdin",
     "output_type": "stream",
     "text": [
      "Please enter a number: 12\n"
     ]
    },
    {
     "name": "stdout",
     "output_type": "stream",
     "text": [
      "12 is not a Prime number.\n"
     ]
    }
   ],
   "source": [
    "import math\n",
    "#Main function of the program.\n",
    "def main(x):\n",
    "    print(f'{x} Is a Prime number!' if (is_prime(x)) else f'{x} is not a Prime number.')\n",
    "#Function for checking if input is prime and returning a boolen.\n",
    "def is_prime(num):\n",
    "    if num <= 1:\n",
    "        return False\n",
    "    for number in range (2, int(math.sqrt(num))+1):\n",
    "        if num % number == 0:\n",
    "            return False\n",
    "    return True\n",
    "\n",
    "main(int(input('Please enter a number:')))"
   ]
  },
  {
   "cell_type": "markdown",
   "metadata": {
    "id": "kqfebVBKxlKj"
   },
   "source": [
    "### Problem **17**\n",
    "\n",
    "#### Question Text\n",
    "\n",
    "*This exercise assumes that you have already written the is_prime function in Programming Exercise 16. Write another program that displays all of the prime numbers from 1 to 100. The program should have a loop that calls the is_prime function.*\n",
    "\n",
    "#### High-Level Overview\n",
    "\n",
    "*For this I created a list for the prime numbers and used a loop to iterate over the range 1 to 100. If the number in the loop is returned true by the is_prime function, it is added to the list. Lastly with print our list of primes with an F-string.*\n"
   ]
  },
  {
   "cell_type": "code",
   "execution_count": 28,
   "metadata": {
    "id": "9yuG65pIxkQJ"
   },
   "outputs": [
    {
     "name": "stdout",
     "output_type": "stream",
     "text": [
      "[2, 3, 5, 7, 11, 13, 17, 19, 23, 29, 31, 37, 41, 43, 47, 53, 59, 61, 67, 71, 73, 79, 83, 89, 97] are all Prime numbers between 1 and 100.\n"
     ]
    }
   ],
   "source": [
    "prime_numbers = [] #List container for our prime numners.\n",
    "\n",
    "#Loop over our number range and feed them to the prime number function.\n",
    "for num in range(1,101):\n",
    "    if is_prime(num):\n",
    "        prime_numbers.append(num)\n",
    "\n",
    "#Prime number function from previous problem.\n",
    "def is_prime(num):\n",
    "    if num <= 1:\n",
    "        return False\n",
    "    for number in range (2, int(math.sqrt(num))+1):\n",
    "        if num % number == 0:\n",
    "            return False\n",
    "    return True\n",
    "\n",
    "print(f'{prime_numbers} are all Prime numbers between 1 and 100.')"
   ]
  },
  {
   "cell_type": "markdown",
   "metadata": {
    "id": "uMknY49Txpht"
   },
   "source": [
    "### Problem **18**\n",
    "\n",
    "#### Question Text\n",
    "\n",
    "*Suppose you have a certain amount of money in a savings account that earns compound monthly interest, and you want to calculate the amount that you will have after a specific number of months. The formula is as follows:<br>\n",
    "F = P × (1 + i)t<br>\n",
    "The terms in the formula are:<br>F is the future value of the account after the specified time period.<br>P is the present value of the account.<br>i is the monthly interest rate.<br>t is the number of months.<br>\n",
    "Write a program that prompts the user to enter the account’s present value, monthly interest rate, and the number of months that the money will be left in the account. The program should pass these values to a function that returns the future value of the account, after the specified number of months. The program should display the account’s future value.*\n",
    "\n",
    "#### High-Level Overview\n",
    "\n",
    "*In two to three sentences at minimum, walk through your general approach to the problem and identify any particular issues you had.*\n"
   ]
  },
  {
   "cell_type": "code",
   "execution_count": 33,
   "metadata": {
    "id": "UByfwHefxpPH"
   },
   "outputs": [
    {
     "name": "stdin",
     "output_type": "stream",
     "text": [
      "Please enter the current value of your account: 10000\n",
      "Please enter the monthly interest rate: 3.6\n",
      "Please enter the number of months to calculate: 24\n"
     ]
    },
    {
     "name": "stdout",
     "output_type": "stream",
     "text": [
      "Your future balance will be: 248640.0\n"
     ]
    }
   ],
   "source": [
    "#Main function that will take the input and call the future balance funciton\n",
    "def main():\n",
    "    p = int(input('Please enter the current value of your account:'))\n",
    "    i = (float(input('Please enter the monthly interest rate:')) / 100)\n",
    "    t = int(input('Please enter the number of months to calculate:'))\n",
    "    print(f'Your future balance will be: {future_balance(p, i, t)}')\n",
    "\n",
    "#Function for accepting input and calculating the future balance.\n",
    "def future_balance(p, i, t):\n",
    "    F = p*(1+i)*t\n",
    "    return F\n",
    "\n",
    "main()"
   ]
  },
  {
   "cell_type": "markdown",
   "metadata": {
    "id": "NxsN1n6_yXlW"
   },
   "source": [
    "## Helpful Checks\n",
    "\n",
    "1.   Did you comment every line of code with meaningful information that will help others reading your code?\n",
    "2.   Did you use appropriate names for your variables, functions, and/or classes?\n",
    "3.   Did you include a high-level explanation for each solution?\n",
    "4.   Did you run each cell that includes a final solution so the output is saved and easily viewed by others?\n",
    "5.   Are you sharing an editable link (i.e., Share > Anyone with the link > Editor) if using Colaboratory, or did you make more than ten commits if using GitHub?\n",
    "6.   Did you remember to comment on the submissions of two other students?"
   ]
  },
  {
   "cell_type": "code",
   "execution_count": null,
   "metadata": {
    "id": "wxzLHFoJTksu"
   },
   "outputs": [],
   "source": []
  }
 ],
 "metadata": {
  "colab": {
   "provenance": []
  },
  "kernelspec": {
   "display_name": "Python 3 (ipykernel)",
   "language": "python",
   "name": "python3"
  },
  "language_info": {
   "codemirror_mode": {
    "name": "ipython",
    "version": 3
   },
   "file_extension": ".py",
   "mimetype": "text/x-python",
   "name": "python",
   "nbconvert_exporter": "python",
   "pygments_lexer": "ipython3",
   "version": "3.12.7"
  }
 },
 "nbformat": 4,
 "nbformat_minor": 4
}
