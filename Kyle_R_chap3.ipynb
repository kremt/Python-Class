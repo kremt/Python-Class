{
 "cells": [
  {
   "cell_type": "markdown",
   "metadata": {
    "id": "V_9gU-dva4Xx"
   },
   "source": [
    "# Chapter **3** Coding Set\n",
    "\n",
    "Work completed by [Kyle R].\n",
    "\n",
    "If you start to struggle with a problem for an extended period of time, remember you can go comment on two other submissions now (seeing other student work helps), or you can post in our discussion forum for questions, which can also earn you extra credit."
   ]
  },
  {
   "cell_type": "markdown",
   "metadata": {
    "id": "jW9S_3jcOdYt"
   },
   "source": [
    "## Imports\n",
    "\n",
    "**If your program requires additional modules, external resources, or files, use this cell to set them up**"
   ]
  },
  {
   "cell_type": "code",
   "execution_count": null,
   "metadata": {
    "id": "mYW-OioYOu3g"
   },
   "outputs": [],
   "source": [
    "# configure your environment\n",
    "\n",
    "# you can uncomment this code to make use of files stored in your Google Drive\n",
    "# from google.colab import drive\n",
    "# drive.mount('/content/drive')\n",
    "\n",
    "# you can uncomment the following line of code to use the pandas library\n",
    "# import pandas as pd"
   ]
  },
  {
   "cell_type": "markdown",
   "metadata": {
    "id": "VH4eGQyub8yQ"
   },
   "source": [
    "## Algorithm Workbench"
   ]
  },
  {
   "cell_type": "markdown",
   "metadata": {
    "id": "dBl7Q9AZcLMU"
   },
   "source": [
    "### Problem **4**\n",
    "\n",
    "#### Question Text\n",
    "\n",
    "*The following code contains several nested if-else statements. Unfortunately, it was\n",
    " written without proper alignment and indentation. Rewrite the code and use the proper\n",
    " conventions of alignment and indentation.*\n",
    "\n",
    "#### High-Level Overview\n",
    "\n",
    "*I used a shortcut of sorts to get this done. By backspacing each line up to the one above it and then hitting enter it autoindents to the proper allignment. The hardest part was setting up veriables to test it. I ran into a couple of type errors and name errors trying it.*\n"
   ]
  },
  {
   "cell_type": "code",
   "execution_count": 14,
   "metadata": {
    "id": "k4iGFPemb26z"
   },
   "outputs": [
    {
     "name": "stdout",
     "output_type": "stream",
     "text": [
      "Your grade is F.\n"
     ]
    }
   ],
   "source": [
    "A_score = 4\n",
    "B_score = 3\n",
    "C_score = 2\n",
    "D_score = 1\n",
    "\n",
    "score = 0\n",
    "\n",
    "if score >= A_score:\n",
    "    print('Your grade is A.')\n",
    "else:\n",
    "    if score >= B_score:\n",
    "        print('Your grade is B.')\n",
    "    else:\n",
    "        if score >= C_score:\n",
    "            print('Your grade is C.')\n",
    "        else:\n",
    "            if score >= D_score:\n",
    "                print('Your grade is D.')\n",
    "            else:\n",
    "                print('Your grade is F.')"
   ]
  },
  {
   "cell_type": "markdown",
   "metadata": {
    "id": "o9xcij9hfq-5"
   },
   "source": [
    "### Problem **5**\n",
    "\n",
    "#### Question Text\n",
    "\n",
    "*Write nested decision structures that perform the following: If amount1 is greater than\n",
    " 10 and amount2 is less than 100, display the greater of amount1 and amount2.*\n",
    "\n",
    "#### High-Level Overview\n",
    "\n",
    "*For this question I used the walrus oporator inside the IF statments to set and test the variables. Then I used a F-string to weigh the veriables and display the greater. Being as concise as possible I was able to get the desiered output in 3 lines. I then added ELIF statements for error handling.*"
   ]
  },
  {
   "cell_type": "code",
   "execution_count": 26,
   "metadata": {
    "id": "ubgUdOUTl24X"
   },
   "outputs": [
    {
     "name": "stdin",
     "output_type": "stream",
     "text": [
      "Please enter the first amount: 50\n",
      "Please enter the second amout: 75\n"
     ]
    },
    {
     "name": "stdout",
     "output_type": "stream",
     "text": [
      "The greater amout is: 75.0\n"
     ]
    }
   ],
   "source": [
    "# Declaring and testing veriables inside the if statments using walrus oporator.\n",
    "if (amount1 := float(input('Please enter the first amount:'))) > 10:\n",
    "    if (amount2 := float(input('Please enter the second amout:'))) < 100:\n",
    "        \n",
    "        # Using an F-string to weigh and return the greater veriable.\n",
    "        print(f'The greater amout is: {amount1 if amount1 > amount2 else amount2}')\n",
    "    \n",
    "    #handling any input errors\n",
    "    elif amount2 > 100:\n",
    "        print('Invalid input')\n",
    "elif amount1 < 10:\n",
    "    print('Invalid input.')"
   ]
  },
  {
   "cell_type": "markdown",
   "metadata": {
    "id": "2b2z_elQf2qP"
   },
   "source": [
    "## Programming Exercises"
   ]
  },
  {
   "cell_type": "markdown",
   "metadata": {
    "id": "klCvdzHvf74V"
   },
   "source": [
    "### Problem **1**\n",
    "\n",
    "#### Question Text\n",
    "\n",
    "*Write a program that asks the user for a number in the range of 1 through 7. The program\n",
    " should display the corresponding day of the week, where 1 = Monday, 2 = Tuesday, 3 =\n",
    " Wednesday, 4 = Thursday, 5 = Friday, 6 = Saturday, and 7 = Sunday. The program should\n",
    " display an error message if the user enters a number that is outside the range of 1 through 7.*\n",
    "\n",
    "#### High-Level Overview\n",
    "\n",
    "*For this problem I initally wanted to establish veriables for the days of the week corrisponding to the numbers, but I wasn't sure how to get a verable based on it's value insted of the other way around. In the end I couldn't thinik of a more concise way to do it other then a if-elif structure.*"
   ]
  },
  {
   "cell_type": "code",
   "execution_count": 30,
   "metadata": {
    "id": "iQooA6BWlvx5"
   },
   "outputs": [
    {
     "name": "stdin",
     "output_type": "stream",
     "text": [
      "Please enter a number 1 through 7: 5\n"
     ]
    },
    {
     "name": "stdout",
     "output_type": "stream",
     "text": [
      "Today is Firday\n"
     ]
    }
   ],
   "source": [
    "# assigning veriables.\n",
    "#Monday, Tuesday, Wednesday, Thursday, Friday, Saturday, Sunday = 1, 2, 3, 4, 5, 6, 7\n",
    "# didn't need the veriables but keeping them for refernce.\n",
    "\n",
    "#Getting input and setting up the decision structure.\n",
    "if (day := int(input('Please enter a number 1 through 7:'))) == 1:\n",
    "    print('Today is Monday')\n",
    "elif day == 2:\n",
    "    print('Today is Tuesday')\n",
    "elif day == 3:\n",
    "    print('Today is Wednesday')\n",
    "elif day == 4:\n",
    "    print('Today is Thursday')\n",
    "elif day == 5:\n",
    "    print('Today is Firday')\n",
    "elif day == 6:\n",
    "    print('Today is Saturday')\n",
    "elif day == 7:\n",
    "    print('Today is Sunday')\n",
    "else:\n",
    "    print('Invalid input')      #exception handling if input is not 1-7."
   ]
  },
  {
   "cell_type": "markdown",
   "metadata": {
    "id": "VxGugqDyxh_p"
   },
   "source": [
    "### Problem **5**\n",
    "\n",
    "#### Question Text\n",
    "\n",
    "*Scientists measure an object’s mass in kilograms and its weight in newtons. If you know\n",
    " the amount of mass of an object in kilograms, you can calculate its weight in newtons with\n",
    " the following formula:<br>\n",
    " weight = mass × 9.8<br>\n",
    " Write a program that asks the user to enter an object’s mass, then calculates its weight. If\n",
    " the object weighs more than 500 newtons, display a message indicating that it is too heavy. If\n",
    " the object weighs less than 100 newtons, display a message indicating that it is too light.*\n",
    "\n",
    "#### High-Level Overview\n",
    "\n",
    "*After gathering the input I set it to a float to handle whatever large scientific numbers might be entered. After that I tested the parameters first to get any invalid inputs out of the way. If passed I then used a F-string to run the formula and display the result. I used a .3 specifier to limit any crazy long numbers while keeping a high degree of accuracy.*\n"
   ]
  },
  {
   "cell_type": "code",
   "execution_count": 37,
   "metadata": {
    "id": "CCUIs3F5xhdd"
   },
   "outputs": [
    {
     "name": "stdin",
     "output_type": "stream",
     "text": [
      "Please enter the objects mass: 45\n"
     ]
    },
    {
     "name": "stdout",
     "output_type": "stream",
     "text": [
      "The object's weight is: 441.000\n"
     ]
    }
   ],
   "source": [
    "# Getting our data from the user\n",
    "mass = float(input('Please enter the objects mass:'))\n",
    "\n",
    "#Testing parameters\n",
    "if (mass * 9.8) > 500:\n",
    "    print('The object is too heavy!')\n",
    "elif (mass * 9.8) < 100:\n",
    "    print('The object is too light!')\n",
    "else:\n",
    "    print(f\"The object's weight is:{mass * 9.8: .3f}\")  #Calculate and display the weight."
   ]
  },
  {
   "cell_type": "markdown",
   "metadata": {
    "id": "kqfebVBKxlKj"
   },
   "source": [
    "### Problem **15 February Days**\n",
    "\n",
    "#### Question Text\n",
    "\n",
    "The month of February normally has 28 days. But if it is a leap year, February has 29 days. Write a program that asks the user to enter a year. The program should then display the number of days in February that year. Use the following criteria to identify leap years:<br>\n",
    "1. Determine whether the year is divisible by 100. If it is, then it is a leap year if and only\n",
    "if it is also divisible by 400. For example, 2000 is a leap year, but 2100 is not.<br>\n",
    "2. If the year is not divisible by 100, then it is a leap year if and only if it is divisible by 4. For example, 2008 is a leap year, but 2009 is not.\n",
    "\n",
    "#### High-Level Overview\n",
    "\n",
    "*I was able to preform the core function in a single statement using the walrus oporator to set the input to a veriable and test for both of the criteria within the IF statment. Using modulo (%) I test for a remainder. IF the remainder is anything other than 0, the input is not divisable by that number and the condition is False.*\n"
   ]
  },
  {
   "cell_type": "code",
   "execution_count": 52,
   "metadata": {
    "id": "9yuG65pIxkQJ"
   },
   "outputs": [
    {
     "name": "stdin",
     "output_type": "stream",
     "text": [
      "Please enter the year: 2025\n"
     ]
    },
    {
     "name": "stdout",
     "output_type": "stream",
     "text": [
      "In 2025 February will have 28 days.\n"
     ]
    }
   ],
   "source": [
    "#In this if statment we assign the users input to \"num\" and test two conditions. If either are true, it is a leap year.\n",
    "if ((num := int(input('Please enter the year:'))) % 100 == 0 and num % 400 == 0) or (num % 100 != 0 and num % 4 == 0):\n",
    "    print(f'In {num} February will have 29 days.')\n",
    "\n",
    "#If both conditions are false, it is not a leap year.\n",
    "else:\n",
    "    print(f'In {num} February will have 28 days.')"
   ]
  },
  {
   "cell_type": "markdown",
   "metadata": {
    "id": "uMknY49Txpht"
   },
   "source": [
    "### Problem **16 WiFi Diagnostic Tree**\n",
    "\n",
    "#### Question Text\n",
    "\n",
    "*Figure 3-21 shows a simplified flowchart for troubleshooting a bad Wi-Fi connection. Use\n",
    " the flowchart to create a program that leads a person through the steps of fixing a bad Wi-Fi\n",
    " connection. Here is an example of the program’s output: <br>\n",
    " Reboot the computer and try to connect.<br>\n",
    " Did that fix the problem? no [Enter]<br>\n",
    " Reboot the router and try to connect.<br>\n",
    " Did that fix the problem? yes [Enter]<br>\n",
    " Notice the program ends as soon as a solution is found to the problem. Here is another\n",
    " example of the program’s output:<br>\n",
    " Reboot the computer and try to connect.<br>\n",
    " Did that fix the problem? no [Enter]<br>\n",
    " Reboot the router and try to connect.<br>\n",
    " Did that fix the problem? no [Enter]<br>\n",
    " Make sure the cables between the router and modem are plugged in firmly.<br>\n",
    " Did that fix the problem? no [Enter]<br>\n",
    " Move the router to a new location.<br>\n",
    " Did that fix the problem? no [Enter]<br>\n",
    " Get a new router.*\n",
    "\n",
    "#### High-Level Overview\n",
    "\n",
    "*In two to three sentences at minimum, walk through your general approach to the problem and identify any particular issues you had.*\n"
   ]
  },
  {
   "cell_type": "code",
   "execution_count": 67,
   "metadata": {
    "id": "UByfwHefxpPH"
   },
   "outputs": [
    {
     "name": "stdout",
     "output_type": "stream",
     "text": [
      "WiFi Troubleshooting\n",
      "Please reboot the computer and try to connect.\n"
     ]
    },
    {
     "name": "stdin",
     "output_type": "stream",
     "text": [
      "Did that fix the problem? Y/N n\n"
     ]
    },
    {
     "data": {
      "text/plain": [
       "'n'"
      ]
     },
     "execution_count": 67,
     "metadata": {},
     "output_type": "execute_result"
    }
   ],
   "source": [
    "print('WiFi Troubleshooting')\n",
    "print('Please reboot the computer and try to connect.')\n",
    "(answer := str(input('Did that fix the problem? Y/N')))"
   ]
  },
  {
   "cell_type": "markdown",
   "metadata": {
    "id": "NxsN1n6_yXlW",
    "jp-MarkdownHeadingCollapsed": true
   },
   "source": [
    "## Helpful Checks\n",
    "\n",
    "1.   Did you comment every line of code with meaningful information that will help others reading your code?\n",
    "2.   Did you use appropriate names for your variables, functions, and/or classes?\n",
    "3.   Did you include a high-level explanation for each solution?\n",
    "4.   Did you run each cell that includes a final solution so the output is saved and easily viewed by others?\n",
    "5.   Are you sharing an editable link (i.e., Share > Anyone with the link > Editor) if using Colaboratory, or did you make more than ten commits if using GitHub?\n",
    "6.   Did you remember to comment on the submissions of two other students?"
   ]
  },
  {
   "cell_type": "code",
   "execution_count": null,
   "metadata": {
    "id": "wxzLHFoJTksu"
   },
   "outputs": [],
   "source": []
  }
 ],
 "metadata": {
  "colab": {
   "provenance": []
  },
  "kernelspec": {
   "display_name": "Python 3 (ipykernel)",
   "language": "python",
   "name": "python3"
  },
  "language_info": {
   "codemirror_mode": {
    "name": "ipython",
    "version": 3
   },
   "file_extension": ".py",
   "mimetype": "text/x-python",
   "name": "python",
   "nbconvert_exporter": "python",
   "pygments_lexer": "ipython3",
   "version": "3.12.7"
  }
 },
 "nbformat": 4,
 "nbformat_minor": 4
}
