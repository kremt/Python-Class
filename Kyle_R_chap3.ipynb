{
 "cells": [
  {
   "cell_type": "markdown",
   "metadata": {
    "id": "V_9gU-dva4Xx"
   },
   "source": [
    "# Chapter **3** Coding Set\n",
    "\n",
    "Work completed by [Kyle R].\n",
    "\n",
    "If you start to struggle with a problem for an extended period of time, remember you can go comment on two other submissions now (seeing other student work helps), or you can post in our discussion forum for questions, which can also earn you extra credit."
   ]
  },
  {
   "cell_type": "markdown",
   "metadata": {
    "id": "jW9S_3jcOdYt"
   },
   "source": [
    "## Imports\n",
    "\n",
    "**If your program requires additional modules, external resources, or files, use this cell to set them up**"
   ]
  },
  {
   "cell_type": "code",
   "execution_count": null,
   "metadata": {
    "id": "mYW-OioYOu3g"
   },
   "outputs": [],
   "source": [
    "# configure your environment\n",
    "\n",
    "# you can uncomment this code to make use of files stored in your Google Drive\n",
    "# from google.colab import drive\n",
    "# drive.mount('/content/drive')\n",
    "\n",
    "# you can uncomment the following line of code to use the pandas library\n",
    "# import pandas as pd"
   ]
  },
  {
   "cell_type": "markdown",
   "metadata": {
    "id": "VH4eGQyub8yQ"
   },
   "source": [
    "## Algorithm Workbench"
   ]
  },
  {
   "cell_type": "markdown",
   "metadata": {
    "id": "dBl7Q9AZcLMU"
   },
   "source": [
    "### Problem **4**\n",
    "\n",
    "#### Question Text\n",
    "\n",
    "*The following code contains several nested if-else statements. Unfortunately, it was\n",
    " written without proper alignment and indentation. Rewrite the code and use the proper\n",
    " conventions of alignment and indentation.*\n",
    "\n",
    "#### High-Level Overview\n",
    "\n",
    "*I used a shortcut of sorts to get this done. By backspacing each line up to the one above it and then hitting enter it autoindents to the proper allignment. The hardest part was setting up veriables to test it. I ran into a couple of type errors and name errors trying it.*\n"
   ]
  },
  {
   "cell_type": "code",
   "execution_count": 14,
   "metadata": {
    "id": "k4iGFPemb26z"
   },
   "outputs": [
    {
     "name": "stdout",
     "output_type": "stream",
     "text": [
      "Your grade is F.\n"
     ]
    }
   ],
   "source": [
    "A_score = 4\n",
    "B_score = 3\n",
    "C_score = 2\n",
    "D_score = 1\n",
    "\n",
    "score = 0\n",
    "\n",
    "if score >= A_score:\n",
    "    print('Your grade is A.')\n",
    "else:\n",
    "    if score >= B_score:\n",
    "        print('Your grade is B.')\n",
    "    else:\n",
    "        if score >= C_score:\n",
    "            print('Your grade is C.')\n",
    "        else:\n",
    "            if score >= D_score:\n",
    "                print('Your grade is D.')\n",
    "            else:\n",
    "                print('Your grade is F.')"
   ]
  },
  {
   "cell_type": "markdown",
   "metadata": {
    "id": "o9xcij9hfq-5"
   },
   "source": [
    "### Problem **5**\n",
    "\n",
    "#### Question Text\n",
    "\n",
    "*Write nested decision structures that perform the following: If amount1 is greater than\n",
    " 10 and amount2 is less than 100, display the greater of amount1 and amount2.*\n",
    "\n",
    "#### High-Level Overview\n",
    "\n",
    "*In two to three sentences at minimum, walk through your general approach to the problem and identify any particular issues you had.*"
   ]
  },
  {
   "cell_type": "code",
   "execution_count": 18,
   "metadata": {
    "id": "ubgUdOUTl24X"
   },
   "outputs": [
    {
     "name": "stdin",
     "output_type": "stream",
     "text": [
      "Please enter the first amount: 12\n",
      "Please enter the second amout: 105\n"
     ]
    }
   ],
   "source": [
    "if (amount1 := float(input('Please enter the first amount:'))) > 10:\n",
    "    if (amount2 := float(input('Please enter the second amout:'))) < 100:\n",
    "        print(f'The greater amout is: {amount1 if amount1 > amount2 else amount2}')\n",
    "else:\n",
    "    print('Invalid input.')"
   ]
  },
  {
   "cell_type": "markdown",
   "metadata": {
    "id": "2b2z_elQf2qP"
   },
   "source": [
    "## Programming Exercises"
   ]
  },
  {
   "cell_type": "markdown",
   "metadata": {
    "id": "klCvdzHvf74V"
   },
   "source": [
    "### Problem **1**\n",
    "\n",
    "#### Question Text\n",
    "\n",
    "*Paste in the question text below.*\n",
    "\n",
    "#### High-Level Overview\n",
    "\n",
    "*In two to three sentences at minimum, walk through your general approach to the problem and identify any particular issues you had.*\n"
   ]
  },
  {
   "cell_type": "code",
   "execution_count": null,
   "metadata": {
    "id": "iQooA6BWlvx5"
   },
   "outputs": [],
   "source": [
    "# add your code to this cell\n",
    "# remember to include comments like this one for most of your code\n",
    "# remember to \"Run cell\" once you're done, excecuting your code so the output is displayed below"
   ]
  },
  {
   "cell_type": "markdown",
   "metadata": {
    "id": "VxGugqDyxh_p"
   },
   "source": [
    "### Problem **5**\n",
    "\n",
    "#### Question Text\n",
    "\n",
    "*Paste in the question text below.*\n",
    "\n",
    "#### High-Level Overview\n",
    "\n",
    "*In two to three sentences at minimum, walk through your general approach to the problem and identify any particular issues you had.*\n"
   ]
  },
  {
   "cell_type": "code",
   "execution_count": null,
   "metadata": {
    "id": "CCUIs3F5xhdd"
   },
   "outputs": [],
   "source": [
    "# add your code to this cell\n",
    "# remember to include comments like this one for most of your code\n",
    "# remember to \"Run cell\" once you're done, excecuting your code so the output is displayed below"
   ]
  },
  {
   "cell_type": "markdown",
   "metadata": {
    "id": "kqfebVBKxlKj"
   },
   "source": [
    "### Problem **15 February Days**\n",
    "\n",
    "#### Question Text\n",
    "\n",
    "*Paste in the question text below.*\n",
    "\n",
    "#### High-Level Overview\n",
    "\n",
    "*In two to three sentences at minimum, walk through your general approach to the problem and identify any particular issues you had.*\n"
   ]
  },
  {
   "cell_type": "code",
   "execution_count": null,
   "metadata": {
    "id": "9yuG65pIxkQJ"
   },
   "outputs": [],
   "source": [
    "# add your code to this cell\n",
    "# remember to include comments like this one for most of your code\n",
    "# remember to \"Run cell\" once you're done, excecuting your code so the output is displayed below"
   ]
  },
  {
   "cell_type": "markdown",
   "metadata": {
    "id": "uMknY49Txpht"
   },
   "source": [
    "### Problem **16 WiFi Diagnostic Tree**\n",
    "\n",
    "#### Question Text\n",
    "\n",
    "*Paste in the question text below.*\n",
    "\n",
    "#### High-Level Overview\n",
    "\n",
    "*In two to three sentences at minimum, walk through your general approach to the problem and identify any particular issues you had.*\n"
   ]
  },
  {
   "cell_type": "code",
   "execution_count": null,
   "metadata": {
    "id": "UByfwHefxpPH"
   },
   "outputs": [],
   "source": [
    "# add your code to this cell\n",
    "# remember to include comments like this one for most of your code\n",
    "# remember to \"Run cell\" once you're done, excecuting your code so the output is displayed below"
   ]
  },
  {
   "cell_type": "markdown",
   "metadata": {
    "id": "NxsN1n6_yXlW"
   },
   "source": [
    "## Helpful Checks\n",
    "\n",
    "1.   Did you comment every line of code with meaningful information that will help others reading your code?\n",
    "2.   Did you use appropriate names for your variables, functions, and/or classes?\n",
    "3.   Did you include a high-level explanation for each solution?\n",
    "4.   Did you run each cell that includes a final solution so the output is saved and easily viewed by others?\n",
    "5.   Are you sharing an editable link (i.e., Share > Anyone with the link > Editor) if using Colaboratory, or did you make more than ten commits if using GitHub?\n",
    "6.   Did you remember to comment on the submissions of two other students?"
   ]
  },
  {
   "cell_type": "code",
   "execution_count": null,
   "metadata": {
    "id": "wxzLHFoJTksu"
   },
   "outputs": [],
   "source": []
  }
 ],
 "metadata": {
  "colab": {
   "provenance": []
  },
  "kernelspec": {
   "display_name": "Python 3 (ipykernel)",
   "language": "python",
   "name": "python3"
  },
  "language_info": {
   "codemirror_mode": {
    "name": "ipython",
    "version": 3
   },
   "file_extension": ".py",
   "mimetype": "text/x-python",
   "name": "python",
   "nbconvert_exporter": "python",
   "pygments_lexer": "ipython3",
   "version": "3.12.7"
  }
 },
 "nbformat": 4,
 "nbformat_minor": 4
}
