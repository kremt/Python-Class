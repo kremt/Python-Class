{
  "nbformat": 4,
  "nbformat_minor": 0,
  "metadata": {
    "colab": {
      "provenance": [],
      "authorship_tag": "ABX9TyN65pZnZQNxLFMQusBoYks3",
      "include_colab_link": true
    },
    "kernelspec": {
      "name": "python3",
      "display_name": "Python 3"
    },
    "language_info": {
      "name": "python"
    }
  },
  "cells": [
    {
      "cell_type": "markdown",
      "metadata": {
        "id": "view-in-github",
        "colab_type": "text"
      },
      "source": [
        "<a href=\"https://colab.research.google.com/github/kremt/Python-Class/blob/main/salty_hash.ipynb\" target=\"_parent\"><img src=\"https://colab.research.google.com/assets/colab-badge.svg\" alt=\"Open In Colab\"/></a>"
      ]
    },
    {
      "cell_type": "code",
      "execution_count": null,
      "metadata": {
        "id": "4aK_9zrp-NBI"
      },
      "outputs": [],
      "source": [
        "from os import error\n",
        "import hashlib\n",
        "import sqlite3\n",
        "\n",
        " # Veriable storing the name of our database.\n",
        "logins_data = 'users.db'\n",
        " # Connect to our database.\n",
        "conn = sqlite3.connect(logins_data)\n",
        " # Courser object for the connection.\n",
        "courser = conn.cursor()\n",
        "\n",
        " # Description of the 'users' table containing id, name, password\n",
        "table_template = \"\"\"CREATE TABLE IF NOT EXISTS users(\n",
        "  id INTEGER PRIMARY KEY AUTOINCREMENT,\n",
        "  name TEXT NOT NULL,\n",
        "  password TEXT NOT NULL);\"\"\"\n",
        "\n",
        " # Functino to add a user record to the users table.\n",
        "def add_user():\n",
        "   # Get name and passwrod from the user.\n",
        "  user_name = input(str(f\"Please enter your username:\"))\n",
        "  password = input(str(f\"Please enter your password:\"))\n",
        "  login_data = [user_name, password]\n",
        "\n",
        "   # Add the name and password to the table and confirm.\n",
        "  courser.execute(\"INSERT INTO users (name, password) VALUES (?, ?)\", login_data)\n",
        "  conn.commit()\n",
        "  print(f\"User '{user_name}' added successfully.\")\n",
        "\n",
        "# Function to remove a user record fromt the users table.\n",
        "def remove_user():\n",
        "  try:\n",
        "     # Get user name and check that it exists in the users table.\n",
        "    user_to_delete = input(str(f\"Please enter the username to delete:\"))\n",
        "    courser.execute(\"SELECT EXISTS (SELECT 1 FROM users WHERE name = ?)\", (user_to_delete,))\n",
        "    user_exists = courser.fetchone()[0]\n",
        "\n",
        "     # If the user record is found, delete and confirm or report not found.\n",
        "    if user_exists:\n",
        "      courser.execute(\"DELETE FROM users WHERE name = ?\", (user_to_delete,))\n",
        "      conn.commit()\n",
        "      print(f\"User '{user_to_delete}' deleted successfully.\")\n",
        "    else:\n",
        "      print(f\"User '{user_to_delete}' not found.\")\n",
        "  except error as e:\n",
        "    print(f\"An error occurred: {e}\")\n",
        "\n",
        "def main():\n",
        "   # Flag for loop contol.\n",
        "   control = 99\n",
        "   # Create the table and handle any exeptions if failed.\n",
        "   try:\n",
        "     courser.execute(table_template)\n",
        "     print(f\"Table 'users' created in {logins_data}.\")\n",
        "   except error as e:\n",
        "     print(f\"An error occurred {e}\")\n",
        "\n",
        "   # Main loop of program.\n",
        "   while control != 0:\n",
        "     control = int(input(f\"What would you like to do?: (enter 1 for add user, 2 for delete user, 3 to exit)\"))\n",
        "     if control == 1:\n",
        "       add_user()\n",
        "     elif control == 2:\n",
        "       remove_user()\n",
        "     elif control == 3:\n",
        "       conn.close()\n",
        "       break\n",
        "     else:\n",
        "      print(f\"Invalid input. Please enter 1, 2, or 3.\")\n",
        "\n",
        " # Call the main loop.\n",
        "if __name__ == \"__main__\":\n",
        "  main()"
      ]
    }
  ]
}